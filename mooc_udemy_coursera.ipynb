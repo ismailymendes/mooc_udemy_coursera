{
 "cells": [
  {
   "attachments": {},
   "cell_type": "markdown",
   "metadata": {},
   "source": [
    "# Análise Udemy/Coursera\n",
    "\n",
    "O objetivo deste notebook é realizar uma análise comparativa entre as duas plataformas MOOC mais populares no Brasil e comparar os cursos que mais crescem entre eles.\n",
    "\n",
    "#TODO  \n",
    "Criar dashboard no **Power BI** ou **Tableau**."
   ]
  },
  {
   "attachments": {},
   "cell_type": "markdown",
   "metadata": {},
   "source": [
    "# Importação dos dados"
   ]
  },
  {
   "attachments": {},
   "cell_type": "markdown",
   "metadata": {},
   "source": [
    "### Importando as bibliotecas"
   ]
  },
  {
   "cell_type": "code",
   "execution_count": 2,
   "metadata": {},
   "outputs": [],
   "source": [
    "import pandas as pd\n",
    "import numpy as np\n",
    "import seaborn as sns\n",
    "import matplotlib.pyplot as plt\n",
    "import matplotlib.ticker as ticker\n",
    "from matplotlib.patches import Polygon"
   ]
  },
  {
   "attachments": {},
   "cell_type": "markdown",
   "metadata": {},
   "source": [
    "### Importando os datasets"
   ]
  },
  {
   "cell_type": "code",
   "execution_count": 3,
   "metadata": {},
   "outputs": [],
   "source": [
    "udemy_cursos = pd.read_csv('data/udemy_cursos.csv') # https://www.kaggle.com/datasets/hossaingh/udemy-courses\n",
    "coursera_cursos = pd.read_csv('data/coursera_cursos.csv') # https://www.kaggle.com/datasets/anasmahmood000/coursera-courses-dataset"
   ]
  },
  {
   "cell_type": "code",
   "execution_count": 4,
   "metadata": {},
   "outputs": [
    {
     "data": {
      "text/html": [
       "<div>\n",
       "<style scoped>\n",
       "    .dataframe tbody tr th:only-of-type {\n",
       "        vertical-align: middle;\n",
       "    }\n",
       "\n",
       "    .dataframe tbody tr th {\n",
       "        vertical-align: top;\n",
       "    }\n",
       "\n",
       "    .dataframe thead th {\n",
       "        text-align: right;\n",
       "    }\n",
       "</style>\n",
       "<table border=\"1\" class=\"dataframe\">\n",
       "  <thead>\n",
       "    <tr style=\"text-align: right;\">\n",
       "      <th></th>\n",
       "      <th>id</th>\n",
       "      <th>title</th>\n",
       "      <th>is_paid</th>\n",
       "      <th>price</th>\n",
       "      <th>headline</th>\n",
       "      <th>num_subscribers</th>\n",
       "      <th>avg_rating</th>\n",
       "      <th>num_reviews</th>\n",
       "      <th>num_comments</th>\n",
       "      <th>num_lectures</th>\n",
       "      <th>content_length_min</th>\n",
       "      <th>published_time</th>\n",
       "      <th>last_update_date</th>\n",
       "      <th>category</th>\n",
       "      <th>subcategory</th>\n",
       "      <th>topic</th>\n",
       "      <th>language</th>\n",
       "      <th>course_url</th>\n",
       "      <th>instructor_name</th>\n",
       "      <th>instructor_url</th>\n",
       "    </tr>\n",
       "  </thead>\n",
       "  <tbody>\n",
       "    <tr>\n",
       "      <th>0</th>\n",
       "      <td>4715.0</td>\n",
       "      <td>Online Vegan Vegetarian Cooking School</td>\n",
       "      <td>True</td>\n",
       "      <td>24.99</td>\n",
       "      <td>Learn to cook delicious vegan recipes. Filmed ...</td>\n",
       "      <td>2231.0</td>\n",
       "      <td>3.75</td>\n",
       "      <td>134.0</td>\n",
       "      <td>42.0</td>\n",
       "      <td>37.0</td>\n",
       "      <td>1268.0</td>\n",
       "      <td>2010-08-05T22:06:13Z</td>\n",
       "      <td>2020-11-06</td>\n",
       "      <td>Lifestyle</td>\n",
       "      <td>Food &amp; Beverage</td>\n",
       "      <td>Vegan Cooking</td>\n",
       "      <td>English</td>\n",
       "      <td>/course/vegan-vegetarian-cooking-school/</td>\n",
       "      <td>Angela Poch</td>\n",
       "      <td>/user/angelapoch/</td>\n",
       "    </tr>\n",
       "    <tr>\n",
       "      <th>1</th>\n",
       "      <td>1769.0</td>\n",
       "      <td>The Lean Startup Talk at Stanford E-Corner</td>\n",
       "      <td>False</td>\n",
       "      <td>0.00</td>\n",
       "      <td>Debunking Myths of Entrepreneurship A startup ...</td>\n",
       "      <td>26474.0</td>\n",
       "      <td>4.50</td>\n",
       "      <td>709.0</td>\n",
       "      <td>112.0</td>\n",
       "      <td>9.0</td>\n",
       "      <td>88.0</td>\n",
       "      <td>2010-01-12T18:09:46Z</td>\n",
       "      <td>NaN</td>\n",
       "      <td>Business</td>\n",
       "      <td>Entrepreneurship</td>\n",
       "      <td>Lean Startup</td>\n",
       "      <td>English</td>\n",
       "      <td>/course/the-lean-startup-debunking-myths-of-en...</td>\n",
       "      <td>Eric Ries</td>\n",
       "      <td>/user/ericries/</td>\n",
       "    </tr>\n",
       "    <tr>\n",
       "      <th>2</th>\n",
       "      <td>5664.0</td>\n",
       "      <td>How To Become a Vegan, Vegetarian, or Flexitarian</td>\n",
       "      <td>True</td>\n",
       "      <td>19.99</td>\n",
       "      <td>Get the tools you need for a lifestyle change ...</td>\n",
       "      <td>1713.0</td>\n",
       "      <td>4.40</td>\n",
       "      <td>41.0</td>\n",
       "      <td>13.0</td>\n",
       "      <td>14.0</td>\n",
       "      <td>82.0</td>\n",
       "      <td>2010-10-13T18:07:17Z</td>\n",
       "      <td>2019-10-09</td>\n",
       "      <td>Lifestyle</td>\n",
       "      <td>Other Lifestyle</td>\n",
       "      <td>Vegan Cooking</td>\n",
       "      <td>English</td>\n",
       "      <td>/course/see-my-personal-motivation-for-becomin...</td>\n",
       "      <td>Angela Poch</td>\n",
       "      <td>/user/angelapoch/</td>\n",
       "    </tr>\n",
       "    <tr>\n",
       "      <th>3</th>\n",
       "      <td>7723.0</td>\n",
       "      <td>How to Train a Puppy</td>\n",
       "      <td>True</td>\n",
       "      <td>199.99</td>\n",
       "      <td>Train your puppy the right way with Dr. Ian Du...</td>\n",
       "      <td>4988.0</td>\n",
       "      <td>4.80</td>\n",
       "      <td>395.0</td>\n",
       "      <td>88.0</td>\n",
       "      <td>36.0</td>\n",
       "      <td>1511.0</td>\n",
       "      <td>2011-06-20T20:08:38Z</td>\n",
       "      <td>2016-01-13</td>\n",
       "      <td>Lifestyle</td>\n",
       "      <td>Pet Care &amp; Training</td>\n",
       "      <td>Pet Training</td>\n",
       "      <td>English</td>\n",
       "      <td>/course/complete-dunbar-collection/</td>\n",
       "      <td>Ian Dunbar</td>\n",
       "      <td>/user/ian-dunbar/</td>\n",
       "    </tr>\n",
       "    <tr>\n",
       "      <th>4</th>\n",
       "      <td>8157.0</td>\n",
       "      <td>Web Design from the Ground Up</td>\n",
       "      <td>True</td>\n",
       "      <td>159.99</td>\n",
       "      <td>Learn web design online: Everything you need t...</td>\n",
       "      <td>1266.0</td>\n",
       "      <td>4.75</td>\n",
       "      <td>38.0</td>\n",
       "      <td>12.0</td>\n",
       "      <td>38.0</td>\n",
       "      <td>569.0</td>\n",
       "      <td>2011-06-23T18:31:20Z</td>\n",
       "      <td>NaN</td>\n",
       "      <td>Design</td>\n",
       "      <td>Web Design</td>\n",
       "      <td>Web Design</td>\n",
       "      <td>English</td>\n",
       "      <td>/course/web-design-from-the-ground-up/</td>\n",
       "      <td>E Learning Lab</td>\n",
       "      <td>/user/edwin-ang-2/</td>\n",
       "    </tr>\n",
       "  </tbody>\n",
       "</table>\n",
       "</div>"
      ],
      "text/plain": [
       "       id                                              title  is_paid   price  \\\n",
       "0  4715.0             Online Vegan Vegetarian Cooking School     True   24.99   \n",
       "1  1769.0         The Lean Startup Talk at Stanford E-Corner    False    0.00   \n",
       "2  5664.0  How To Become a Vegan, Vegetarian, or Flexitarian     True   19.99   \n",
       "3  7723.0                               How to Train a Puppy     True  199.99   \n",
       "4  8157.0                      Web Design from the Ground Up     True  159.99   \n",
       "\n",
       "                                            headline  num_subscribers  \\\n",
       "0  Learn to cook delicious vegan recipes. Filmed ...           2231.0   \n",
       "1  Debunking Myths of Entrepreneurship A startup ...          26474.0   \n",
       "2  Get the tools you need for a lifestyle change ...           1713.0   \n",
       "3  Train your puppy the right way with Dr. Ian Du...           4988.0   \n",
       "4  Learn web design online: Everything you need t...           1266.0   \n",
       "\n",
       "   avg_rating  num_reviews  num_comments  num_lectures  content_length_min  \\\n",
       "0        3.75        134.0          42.0          37.0              1268.0   \n",
       "1        4.50        709.0         112.0           9.0                88.0   \n",
       "2        4.40         41.0          13.0          14.0                82.0   \n",
       "3        4.80        395.0          88.0          36.0              1511.0   \n",
       "4        4.75         38.0          12.0          38.0               569.0   \n",
       "\n",
       "         published_time last_update_date   category          subcategory  \\\n",
       "0  2010-08-05T22:06:13Z       2020-11-06  Lifestyle      Food & Beverage   \n",
       "1  2010-01-12T18:09:46Z              NaN   Business     Entrepreneurship   \n",
       "2  2010-10-13T18:07:17Z       2019-10-09  Lifestyle      Other Lifestyle   \n",
       "3  2011-06-20T20:08:38Z       2016-01-13  Lifestyle  Pet Care & Training   \n",
       "4  2011-06-23T18:31:20Z              NaN     Design           Web Design   \n",
       "\n",
       "           topic language                                         course_url  \\\n",
       "0  Vegan Cooking  English           /course/vegan-vegetarian-cooking-school/   \n",
       "1   Lean Startup  English  /course/the-lean-startup-debunking-myths-of-en...   \n",
       "2  Vegan Cooking  English  /course/see-my-personal-motivation-for-becomin...   \n",
       "3   Pet Training  English                /course/complete-dunbar-collection/   \n",
       "4     Web Design  English             /course/web-design-from-the-ground-up/   \n",
       "\n",
       "  instructor_name      instructor_url  \n",
       "0     Angela Poch   /user/angelapoch/  \n",
       "1       Eric Ries     /user/ericries/  \n",
       "2     Angela Poch   /user/angelapoch/  \n",
       "3      Ian Dunbar   /user/ian-dunbar/  \n",
       "4  E Learning Lab  /user/edwin-ang-2/  "
      ]
     },
     "execution_count": 4,
     "metadata": {},
     "output_type": "execute_result"
    }
   ],
   "source": [
    "udemy_cursos.head(5)"
   ]
  },
  {
   "cell_type": "code",
   "execution_count": 5,
   "metadata": {},
   "outputs": [
    {
     "data": {
      "text/html": [
       "<div>\n",
       "<style scoped>\n",
       "    .dataframe tbody tr th:only-of-type {\n",
       "        vertical-align: middle;\n",
       "    }\n",
       "\n",
       "    .dataframe tbody tr th {\n",
       "        vertical-align: top;\n",
       "    }\n",
       "\n",
       "    .dataframe thead th {\n",
       "        text-align: right;\n",
       "    }\n",
       "</style>\n",
       "<table border=\"1\" class=\"dataframe\">\n",
       "  <thead>\n",
       "    <tr style=\"text-align: right;\">\n",
       "      <th></th>\n",
       "      <th>url</th>\n",
       "      <th>title</th>\n",
       "      <th>associated-university-institution-company</th>\n",
       "      <th>type</th>\n",
       "      <th>image</th>\n",
       "      <th>category-subject-area</th>\n",
       "      <th>certificate-is-available</th>\n",
       "      <th>description</th>\n",
       "      <th>duration</th>\n",
       "      <th>language</th>\n",
       "      <th>level</th>\n",
       "      <th>prerequisites</th>\n",
       "      <th>price</th>\n",
       "      <th>rating</th>\n",
       "      <th>syllabus</th>\n",
       "      <th>timestamp</th>\n",
       "    </tr>\n",
       "  </thead>\n",
       "  <tbody>\n",
       "    <tr>\n",
       "      <th>0</th>\n",
       "      <td>https://www.coursera.org/specializations/netwo...</td>\n",
       "      <td>Networking in Google Cloud Specialization</td>\n",
       "      <td>Google Cloud</td>\n",
       "      <td>specializations</td>\n",
       "      <td>https://s3.amazonaws.com/coursera_assets/meta_...</td>\n",
       "      <td>Networking</td>\n",
       "      <td>Shareable Certificate</td>\n",
       "      <td>This specialization gives participants broad s...</td>\n",
       "      <td>Approximately 4 months to complete</td>\n",
       "      <td>English</td>\n",
       "      <td>Intermediate Level</td>\n",
       "      <td>-</td>\n",
       "      <td>free</td>\n",
       "      <td>4.8</td>\n",
       "      <td>-</td>\n",
       "      <td>2022-07-29T23:58:34Z</td>\n",
       "    </tr>\n",
       "    <tr>\n",
       "      <th>1</th>\n",
       "      <td>https://www.coursera.org/learn/2-speed-it</td>\n",
       "      <td>Two Speed IT: How Companies Can Surf the Digit...</td>\n",
       "      <td>CentraleSupélec</td>\n",
       "      <td>course</td>\n",
       "      <td>https://s3.amazonaws.com/coursera_assets/meta_...</td>\n",
       "      <td>Business Essentials</td>\n",
       "      <td>Shareable Certificate</td>\n",
       "      <td>Transform or disappear, the Darwinism of IT: I...</td>\n",
       "      <td>Approx. 14 hours to complete</td>\n",
       "      <td>English</td>\n",
       "      <td>-</td>\n",
       "      <td>-</td>\n",
       "      <td>free</td>\n",
       "      <td>4.3</td>\n",
       "      <td>Introduction ~.~ Start here! ~.~ IT and the CI...</td>\n",
       "      <td>2022-07-29T23:58:34Z</td>\n",
       "    </tr>\n",
       "    <tr>\n",
       "      <th>2</th>\n",
       "      <td>https://www.coursera.org/learn/fundamentals-ne...</td>\n",
       "      <td>Fundamentals of Network Communication</td>\n",
       "      <td>University of Colorado System</td>\n",
       "      <td>course</td>\n",
       "      <td>https://s3.amazonaws.com/coursera_assets/meta_...</td>\n",
       "      <td>Computer Security and Networks</td>\n",
       "      <td>Shareable Certificate</td>\n",
       "      <td>In this course, we trace the evolution of netw...</td>\n",
       "      <td>Approx. 15 hours to complete</td>\n",
       "      <td>English</td>\n",
       "      <td>Intermediate Level</td>\n",
       "      <td>-</td>\n",
       "      <td>free</td>\n",
       "      <td>4.6</td>\n",
       "      <td>Communication Networks and Services ~.~ This m...</td>\n",
       "      <td>2022-07-29T23:58:54Z</td>\n",
       "    </tr>\n",
       "    <tr>\n",
       "      <th>3</th>\n",
       "      <td>https://www.coursera.org/learn/ux-design-jobs</td>\n",
       "      <td>Design a User Experience for Social Good &amp; Pre...</td>\n",
       "      <td>Google</td>\n",
       "      <td>course</td>\n",
       "      <td>https://s3.amazonaws.com/coursera_assets/meta_...</td>\n",
       "      <td>Design and Product</td>\n",
       "      <td>Shareable Certificate</td>\n",
       "      <td>Design a User Experience for Social Good and P...</td>\n",
       "      <td>Approx. 71 hours to complete</td>\n",
       "      <td>English</td>\n",
       "      <td>Beginner Level</td>\n",
       "      <td>-</td>\n",
       "      <td>free</td>\n",
       "      <td>4.8</td>\n",
       "      <td>Starting the UX design process: empathize, def...</td>\n",
       "      <td>2022-07-29T23:59:20Z</td>\n",
       "    </tr>\n",
       "    <tr>\n",
       "      <th>4</th>\n",
       "      <td>https://www.coursera.org/learn/database-applic...</td>\n",
       "      <td>Building Database Applications in PHP</td>\n",
       "      <td>University of Michigan</td>\n",
       "      <td>course</td>\n",
       "      <td>https://s3.amazonaws.com/coursera_assets/meta_...</td>\n",
       "      <td>Mobile and Web Development</td>\n",
       "      <td>Shareable Certificate</td>\n",
       "      <td>In this course, we'll look at the object orien...</td>\n",
       "      <td>Approx. 24 hours to complete</td>\n",
       "      <td>English</td>\n",
       "      <td>Intermediate Level</td>\n",
       "      <td>-</td>\n",
       "      <td>free</td>\n",
       "      <td>4.9</td>\n",
       "      <td>PHP Objects ~.~ We look at the object oriented...</td>\n",
       "      <td>2022-07-29T23:59:20Z</td>\n",
       "    </tr>\n",
       "  </tbody>\n",
       "</table>\n",
       "</div>"
      ],
      "text/plain": [
       "                                                 url  \\\n",
       "0  https://www.coursera.org/specializations/netwo...   \n",
       "1          https://www.coursera.org/learn/2-speed-it   \n",
       "2  https://www.coursera.org/learn/fundamentals-ne...   \n",
       "3      https://www.coursera.org/learn/ux-design-jobs   \n",
       "4  https://www.coursera.org/learn/database-applic...   \n",
       "\n",
       "                                               title  \\\n",
       "0          Networking in Google Cloud Specialization   \n",
       "1  Two Speed IT: How Companies Can Surf the Digit...   \n",
       "2              Fundamentals of Network Communication   \n",
       "3  Design a User Experience for Social Good & Pre...   \n",
       "4              Building Database Applications in PHP   \n",
       "\n",
       "  associated-university-institution-company             type  \\\n",
       "0                              Google Cloud  specializations   \n",
       "1                           CentraleSupélec           course   \n",
       "2             University of Colorado System           course   \n",
       "3                                    Google           course   \n",
       "4                    University of Michigan           course   \n",
       "\n",
       "                                               image  \\\n",
       "0  https://s3.amazonaws.com/coursera_assets/meta_...   \n",
       "1  https://s3.amazonaws.com/coursera_assets/meta_...   \n",
       "2  https://s3.amazonaws.com/coursera_assets/meta_...   \n",
       "3  https://s3.amazonaws.com/coursera_assets/meta_...   \n",
       "4  https://s3.amazonaws.com/coursera_assets/meta_...   \n",
       "\n",
       "            category-subject-area certificate-is-available  \\\n",
       "0                      Networking    Shareable Certificate   \n",
       "1             Business Essentials    Shareable Certificate   \n",
       "2  Computer Security and Networks    Shareable Certificate   \n",
       "3              Design and Product    Shareable Certificate   \n",
       "4      Mobile and Web Development    Shareable Certificate   \n",
       "\n",
       "                                         description  \\\n",
       "0  This specialization gives participants broad s...   \n",
       "1  Transform or disappear, the Darwinism of IT: I...   \n",
       "2  In this course, we trace the evolution of netw...   \n",
       "3  Design a User Experience for Social Good and P...   \n",
       "4  In this course, we'll look at the object orien...   \n",
       "\n",
       "                             duration language               level  \\\n",
       "0  Approximately 4 months to complete  English  Intermediate Level   \n",
       "1        Approx. 14 hours to complete  English                   -   \n",
       "2        Approx. 15 hours to complete  English  Intermediate Level   \n",
       "3        Approx. 71 hours to complete  English      Beginner Level   \n",
       "4        Approx. 24 hours to complete  English  Intermediate Level   \n",
       "\n",
       "  prerequisites price rating  \\\n",
       "0             -  free    4.8   \n",
       "1             -  free    4.3   \n",
       "2             -  free    4.6   \n",
       "3             -  free    4.8   \n",
       "4             -  free    4.9   \n",
       "\n",
       "                                            syllabus             timestamp  \n",
       "0                                                  -  2022-07-29T23:58:34Z  \n",
       "1  Introduction ~.~ Start here! ~.~ IT and the CI...  2022-07-29T23:58:34Z  \n",
       "2  Communication Networks and Services ~.~ This m...  2022-07-29T23:58:54Z  \n",
       "3  Starting the UX design process: empathize, def...  2022-07-29T23:59:20Z  \n",
       "4  PHP Objects ~.~ We look at the object oriented...  2022-07-29T23:59:20Z  "
      ]
     },
     "execution_count": 5,
     "metadata": {},
     "output_type": "execute_result"
    }
   ],
   "source": [
    "coursera_cursos.head(5)"
   ]
  },
  {
   "cell_type": "markdown",
   "metadata": {},
   "source": [
    "# Análise dos dados"
   ]
  },
  {
   "attachments": {},
   "cell_type": "markdown",
   "metadata": {},
   "source": [
    "### Analisando o dataset da Udemy"
   ]
  },
  {
   "cell_type": "code",
   "execution_count": 6,
   "metadata": {},
   "outputs": [
    {
     "name": "stdout",
     "output_type": "stream",
     "text": [
      "<class 'pandas.core.frame.DataFrame'>\n",
      "RangeIndex: 209734 entries, 0 to 209733\n",
      "Data columns (total 20 columns):\n",
      " #   Column              Non-Null Count   Dtype  \n",
      "---  ------              --------------   -----  \n",
      " 0   id                  209734 non-null  float64\n",
      " 1   title               209734 non-null  object \n",
      " 2   is_paid             209734 non-null  bool   \n",
      " 3   price               209734 non-null  float64\n",
      " 4   headline            209707 non-null  object \n",
      " 5   num_subscribers     209734 non-null  float64\n",
      " 6   avg_rating          209734 non-null  float64\n",
      " 7   num_reviews         209734 non-null  float64\n",
      " 8   num_comments        209734 non-null  float64\n",
      " 9   num_lectures        209734 non-null  float64\n",
      " 10  content_length_min  209734 non-null  float64\n",
      " 11  published_time      209734 non-null  object \n",
      " 12  last_update_date    209597 non-null  object \n",
      " 13  category            209734 non-null  object \n",
      " 14  subcategory         209734 non-null  object \n",
      " 15  topic               208776 non-null  object \n",
      " 16  language            209734 non-null  object \n",
      " 17  course_url          209734 non-null  object \n",
      " 18  instructor_name     209729 non-null  object \n",
      " 19  instructor_url      209307 non-null  object \n",
      "dtypes: bool(1), float64(8), object(11)\n",
      "memory usage: 30.6+ MB\n"
     ]
    }
   ],
   "source": [
    "udemy_cursos.info()"
   ]
  },
  {
   "cell_type": "code",
   "execution_count": 7,
   "metadata": {},
   "outputs": [
    {
     "data": {
      "text/plain": [
       "id                      0\n",
       "title                   0\n",
       "is_paid                 0\n",
       "price                   0\n",
       "headline               27\n",
       "num_subscribers         0\n",
       "avg_rating              0\n",
       "num_reviews             0\n",
       "num_comments            0\n",
       "num_lectures            0\n",
       "content_length_min      0\n",
       "published_time          0\n",
       "last_update_date      137\n",
       "category                0\n",
       "subcategory             0\n",
       "topic                 958\n",
       "language                0\n",
       "course_url              0\n",
       "instructor_name         5\n",
       "instructor_url        427\n",
       "dtype: int64"
      ]
     },
     "execution_count": 7,
     "metadata": {},
     "output_type": "execute_result"
    }
   ],
   "source": [
    "udemy_cursos.isna().sum()"
   ]
  },
  {
   "cell_type": "code",
   "execution_count": 8,
   "metadata": {},
   "outputs": [],
   "source": [
    "pd.set_option('display.max_columns', 0) # default:0, None mostra todas as colunas\n",
    "pd.set_option('display.max_colwidth', 50) # defaul:50, None mostra o conteúdo completo das colunas"
   ]
  },
  {
   "cell_type": "code",
   "execution_count": 9,
   "metadata": {},
   "outputs": [],
   "source": [
    "udemy_cursos = (\n",
    "    udemy_cursos.fillna('Unlisted')\n",
    ")\n",
    "#udemy_cursos = udemy_cursos.drop(columns=['']) "
   ]
  },
  {
   "cell_type": "code",
   "execution_count": 10,
   "metadata": {},
   "outputs": [
    {
     "data": {
      "text/html": [
       "<div>\n",
       "<style scoped>\n",
       "    .dataframe tbody tr th:only-of-type {\n",
       "        vertical-align: middle;\n",
       "    }\n",
       "\n",
       "    .dataframe tbody tr th {\n",
       "        vertical-align: top;\n",
       "    }\n",
       "\n",
       "    .dataframe thead th {\n",
       "        text-align: right;\n",
       "    }\n",
       "</style>\n",
       "<table border=\"1\" class=\"dataframe\">\n",
       "  <thead>\n",
       "    <tr style=\"text-align: right;\">\n",
       "      <th></th>\n",
       "      <th>id</th>\n",
       "      <th>title</th>\n",
       "      <th>is_paid</th>\n",
       "      <th>price</th>\n",
       "      <th>headline</th>\n",
       "      <th>num_subscribers</th>\n",
       "      <th>avg_rating</th>\n",
       "      <th>num_reviews</th>\n",
       "      <th>num_comments</th>\n",
       "      <th>num_lectures</th>\n",
       "      <th>content_length_min</th>\n",
       "      <th>published_time</th>\n",
       "      <th>last_update_date</th>\n",
       "      <th>category</th>\n",
       "      <th>subcategory</th>\n",
       "      <th>topic</th>\n",
       "      <th>language</th>\n",
       "      <th>course_url</th>\n",
       "      <th>instructor_name</th>\n",
       "      <th>instructor_url</th>\n",
       "    </tr>\n",
       "  </thead>\n",
       "  <tbody>\n",
       "    <tr>\n",
       "      <th>3521</th>\n",
       "      <td>200824.0</td>\n",
       "      <td>Introduction to JavaScript Object Notation (JSON)</td>\n",
       "      <td>True</td>\n",
       "      <td>19.99</td>\n",
       "      <td>Unlisted</td>\n",
       "      <td>4888.0</td>\n",
       "      <td>4.421053</td>\n",
       "      <td>783.0</td>\n",
       "      <td>156.0</td>\n",
       "      <td>20.0</td>\n",
       "      <td>93.0</td>\n",
       "      <td>2014-05-19T01:49:26Z</td>\n",
       "      <td>2015-11-27</td>\n",
       "      <td>Development</td>\n",
       "      <td>Programming Languages</td>\n",
       "      <td>JSON</td>\n",
       "      <td>English</td>\n",
       "      <td>/course/json-training-a-javascript-object-nota...</td>\n",
       "      <td>Marie Taylor</td>\n",
       "      <td>/user/marietaylor3/</td>\n",
       "    </tr>\n",
       "  </tbody>\n",
       "</table>\n",
       "</div>"
      ],
      "text/plain": [
       "            id  ...       instructor_url\n",
       "3521  200824.0  ...  /user/marietaylor3/\n",
       "\n",
       "[1 rows x 20 columns]"
      ]
     },
     "execution_count": 10,
     "metadata": {},
     "output_type": "execute_result"
    }
   ],
   "source": [
    "udemy_cursos.iloc[[3521]]"
   ]
  },
  {
   "cell_type": "code",
   "execution_count": 11,
   "metadata": {},
   "outputs": [],
   "source": [
    "udemy_cursos['num_subscribers'] = udemy_cursos['num_subscribers'].astype(int)\n",
    "udemy_cursos['num_reviews'] = udemy_cursos['num_reviews'].astype(int)\n",
    "udemy_cursos['num_comments'] = udemy_cursos['num_comments'].astype(int)\n",
    "udemy_cursos['num_lectures'] = udemy_cursos['num_lectures'].astype(int)\n",
    "udemy_cursos['num_lectures'] = udemy_cursos['num_lectures'].astype(int)\n",
    "udemy_cursos['content_length_min'] = udemy_cursos['content_length_min'].astype(int)"
   ]
  },
  {
   "cell_type": "code",
   "execution_count": 12,
   "metadata": {},
   "outputs": [
    {
     "data": {
      "text/plain": [
       "Index(['id', 'title', 'is_paid', 'price', 'headline', 'num_subscribers',\n",
       "       'avg_rating', 'num_reviews', 'num_comments', 'num_lectures',\n",
       "       'content_length_min', 'published_time', 'last_update_date', 'category',\n",
       "       'subcategory', 'topic', 'language', 'course_url', 'instructor_name',\n",
       "       'instructor_url'],\n",
       "      dtype='object')"
      ]
     },
     "execution_count": 12,
     "metadata": {},
     "output_type": "execute_result"
    }
   ],
   "source": [
    "udemy_cursos.columns"
   ]
  },
  {
   "cell_type": "code",
   "execution_count": 13,
   "metadata": {},
   "outputs": [
    {
     "data": {
      "text/plain": [
       "Development             31643\n",
       "IT & Software           30479\n",
       "Teaching & Academics    26293\n",
       "Business                24670\n",
       "Personal Development    21239\n",
       "Design                  15256\n",
       "Health & Fitness        11568\n",
       "Marketing               11221\n",
       "Lifestyle               10653\n",
       "Finance & Accounting    10572\n",
       "Office Productivity      6297\n",
       "Music                    5977\n",
       "Photography & Video      3866\n",
       "Name: category, dtype: int64"
      ]
     },
     "execution_count": 13,
     "metadata": {},
     "output_type": "execute_result"
    }
   ],
   "source": [
    "udemy_cursos['category'].value_counts()"
   ]
  },
  {
   "cell_type": "code",
   "execution_count": 14,
   "metadata": {},
   "outputs": [
    {
     "data": {
      "text/plain": [
       "English       123921\n",
       "Portuguese     18471\n",
       "Spanish        17428\n",
       "Turkish         8100\n",
       "Japanese        7006\n",
       "               ...  \n",
       "Welsh              1\n",
       "Frisian            1\n",
       "Zulu               1\n",
       "Tatar              1\n",
       "Faroese            1\n",
       "Name: language, Length: 79, dtype: int64"
      ]
     },
     "execution_count": 14,
     "metadata": {},
     "output_type": "execute_result"
    }
   ],
   "source": [
    "udemy_cursos['language'].value_counts()"
   ]
  },
  {
   "cell_type": "code",
   "execution_count": 18,
   "metadata": {},
   "outputs": [
    {
     "data": {
      "text/plain": [
       "False    208959\n",
       "True        775\n",
       "Name: title, dtype: int64"
      ]
     },
     "execution_count": 18,
     "metadata": {},
     "output_type": "execute_result"
    }
   ],
   "source": [
    "udemy_cursos['title'].str.contains('Data Science', na=False).value_counts()"
   ]
  },
  {
   "attachments": {},
   "cell_type": "markdown",
   "metadata": {},
   "source": [
    "### Visualizando o dataset da Udemy"
   ]
  },
  {
   "cell_type": "code",
   "execution_count": 57,
   "metadata": {},
   "outputs": [
    {
     "data": {
      "image/png": "[encoded data removed]",
      "text/plain": [
       "<Figure size 400x400 with 1 Axes>"
      ]
     },
     "metadata": {},
     "output_type": "display_data"
    }
   ],
   "source": [
    "# Visualização em pizza da porcentagem de cursos grátis e pagos.\n",
    "plt.figure(figsize = (4, 4))\n",
    "plt.pie(udemy_cursos.groupby(['is_paid']).size(),\n",
    "        labels = ['Grátis', 'Pago'], \n",
    "        autopct = '%1.1f%%',\n",
    "        startangle = 90, colors = ['#1b9e77','#fd6767'],\n",
    "        textprops = {'size': 12},\n",
    "        wedgeprops= {\"edgecolor\":\"white\",\n",
    "                     'linewidth': 1,\n",
    "                     'antialiased': True})\n",
    "plt.axis('equal')\n",
    "plt.title('Tipos de cursos:\\n',loc='left', fontdict={'fontsize': 14})\n",
    "plt.show()"
   ]
  },
  {
   "cell_type": "code",
   "execution_count": 26,
   "metadata": {},
   "outputs": [
    {
     "data": {
      "image/png": "[encoded data removed]",
      "text/plain": [
       "<Figure size 600x300 with 1 Axes>"
      ]
     },
     "metadata": {},
     "output_type": "display_data"
    }
   ],
   "source": [
    "plt.rcParams.update({'font.size': 10, 'axes.axisbelow': True})\n",
    "plt.figure(figsize = (6, 3))\n",
    "plt.hist(udemy_cursos[udemy_cursos['is_paid']==True]['price'],bins=50,range=(0,1000), rwidth=0.85,\n",
    "         color='#fd6767')\n",
    "plt.grid(axis='y', color ='Grey',\n",
    "        linestyle ='-.', linewidth = 0.1)\n",
    "plt.xticks(range(0,1001,100))\n",
    "plt.margins(0.01)\n",
    "plt.xlabel(\"Preço ($)\", labelpad=10)\n",
    "plt.ylabel(\"\")\n",
    "plt.title('Distribuição dos preços:\\n',loc='center', fontdict={'fontsize': 12})\n",
    "plt.show()"
   ]
  },
  {
   "cell_type": "code",
   "execution_count": 138,
   "metadata": {},
   "outputs": [
    {
     "data": {
      "image/png": "[encoded data removed]",
      "text/plain": [
       "<Figure size 1000x300 with 1 Axes>"
      ]
     },
     "metadata": {},
     "output_type": "display_data"
    }
   ],
   "source": [
    "plt.figure(figsize = (10, 3))\n",
    "plt.hist(udemy_cursos[(udemy_cursos['num_subscribers']>0) & (udemy_cursos['num_subscribers']<1e6)]['num_subscribers'],bins=89, rwidth=0.85, \n",
    "         color='#1b9e77')\n",
    "plt.grid(axis='y', color ='Grey', which='both',\n",
    "        linestyle ='-.', linewidth = 0.1)\n",
    "plt.xticks(range(0,1000001,100000))\n",
    "plt.margins(0.01)\n",
    "plt.xlabel(\"Inscritos\", labelpad=10)\n",
    "plt.yscale('log')\n",
    "plt.title('Distribuição dos inscritos:\\n',loc='center')\n",
    "\n",
    "SMALL_SIZE = 8\n",
    "MEDIUM_SIZE = 10\n",
    "BIGGER_SIZE = 12\n",
    "\n",
    "plt.rc('axes', labelsize=MEDIUM_SIZE)    # fontsize of the x and y labels\n",
    "plt.rc('xtick', labelsize=MEDIUM_SIZE)   # fontsize of the tick labels\n",
    "plt.rc('ytick', labelsize=MEDIUM_SIZE)   # fontsize of the tick labels\n",
    "plt.rc('legend', fontsize=SMALL_SIZE)    # legend fontsize\n",
    "plt.show()"
   ]
  },
  {
   "cell_type": "code",
   "execution_count": 75,
   "metadata": {},
   "outputs": [
    {
     "data": {
      "image/png": "[encoded data removed]",
      "text/plain": [
       "<Figure size 800x800 with 2 Axes>"
      ]
     },
     "metadata": {},
     "output_type": "display_data"
    }
   ],
   "source": [
    "fig, (ax1, ax2) = plt.subplots(2,1,figsize = (8, 8))\n",
    "N, bins, patches = ax1.hist(udemy_cursos['content_length_min'], rwidth=0.85, bins=45,\n",
    "         color='#1a3f5f')\n",
    "ax1.grid(axis='y', color ='Grey',\n",
    "        linestyle ='-.', linewidth = 0.1, which='both',\n",
    "        alpha = 0.6)\n",
    "ax1.margins(0.01)\n",
    "patches[0].set_facecolor('#ed553b')\n",
    "patches[1].set_facecolor('#ed553b')\n",
    "plt.sca(ax1)\n",
    "plt.yscale('log')\n",
    "plt.ylabel(\"Count\")\n",
    "ax2.hist(udemy_cursos[udemy_cursos['content_length_min']<1000]['content_length_min'], rwidth=0.85, bins=100,\n",
    "         color='#ed553b')\n",
    "ax2.grid(axis='y', color ='Grey',\n",
    "        linestyle ='-.', linewidth = 0.1,\n",
    "        alpha = 0.6)\n",
    "ax2.margins(0.01)\n",
    "plt.sca(ax2)\n",
    "plt.xlabel(\"Duração (min)\", labelpad=10)\n",
    "plt.ylabel(\"\")\n",
    "plt.xticks(range(0,1001,100))\n",
    "plt.subplots_adjust(hspace=0.1)\n",
    "plt.suptitle('Distribuição da duração:',fontsize=12)\n",
    "plt.show()"
   ]
  }
 ],
 "metadata": {
  "kernelspec": {
   "display_name": "datascience",
   "language": "python",
   "name": "python3"
  },
  "language_info": {
   "codemirror_mode": {
    "name": "ipython",
    "version": 3
   },
   "file_extension": ".py",
   "mimetype": "text/x-python",
   "name": "python",
   "nbconvert_exporter": "python",
   "pygments_lexer": "ipython3",
   "version": "3.11.0"
  },
  "orig_nbformat": 4,
  "vscode": {
   "interpreter": {
    "hash": "7f3c42746d99043f071b835a59ef4aba7cc2276c6a6dea3da8db9b817525a73f"
   }
  }
 },
 "nbformat": 4,
 "nbformat_minor": 2
}
