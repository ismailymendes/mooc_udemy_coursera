{
 "cells": [
  {
   "attachments": {},
   "cell_type": "markdown",
   "metadata": {},
   "source": [
    "# 1\\. Introdução\n",
    "A Udemy é uma plataforma online de ensino que possui mais de 200 mil cursos abrangendo em torno de 75 idiomas. Neste notebook irei realizar uma análise dos cursos da Udemy.\n",
    "\n",
    "#TODO  \n",
    "Criar dashboard no **Power BI** ou **Tableau**.  \n",
    "Usar SQL?"
   ]
  },
  {
   "attachments": {},
   "cell_type": "markdown",
   "metadata": {},
   "source": [
    "# 2\\. Bibliotecas e Datasets"
   ]
  },
  {
   "cell_type": "code",
   "execution_count": 3,
   "metadata": {},
   "outputs": [],
   "source": [
    "import pandas as pd\n",
    "import numpy as np\n",
    "import seaborn as sns\n",
    "import matplotlib.pyplot as plt\n",
    "import matplotlib.ticker as ticker\n",
    "from matplotlib.patches import Polygon"
   ]
  },
  {
   "cell_type": "code",
   "execution_count": 4,
   "metadata": {},
   "outputs": [],
   "source": [
    "# Dataset\n",
    "udemy_cursos = pd.read_csv('data/udemy_cursos.csv') # https://www.kaggle.com/datasets/hossaingh/udemy-courses"
   ]
  },
  {
   "cell_type": "code",
   "execution_count": 5,
   "metadata": {},
   "outputs": [
    {
     "data": {
      "text/html": [
       "<div>\n",
       "<style scoped>\n",
       "    .dataframe tbody tr th:only-of-type {\n",
       "        vertical-align: middle;\n",
       "    }\n",
       "\n",
       "    .dataframe tbody tr th {\n",
       "        vertical-align: top;\n",
       "    }\n",
       "\n",
       "    .dataframe thead th {\n",
       "        text-align: right;\n",
       "    }\n",
       "</style>\n",
       "<table border=\"1\" class=\"dataframe\">\n",
       "  <thead>\n",
       "    <tr style=\"text-align: right;\">\n",
       "      <th></th>\n",
       "      <th>id</th>\n",
       "      <th>title</th>\n",
       "      <th>is_paid</th>\n",
       "      <th>price</th>\n",
       "      <th>headline</th>\n",
       "      <th>num_subscribers</th>\n",
       "      <th>avg_rating</th>\n",
       "      <th>num_reviews</th>\n",
       "      <th>num_comments</th>\n",
       "      <th>num_lectures</th>\n",
       "      <th>content_length_min</th>\n",
       "      <th>published_time</th>\n",
       "      <th>last_update_date</th>\n",
       "      <th>category</th>\n",
       "      <th>subcategory</th>\n",
       "      <th>topic</th>\n",
       "      <th>language</th>\n",
       "      <th>course_url</th>\n",
       "      <th>instructor_name</th>\n",
       "      <th>instructor_url</th>\n",
       "    </tr>\n",
       "  </thead>\n",
       "  <tbody>\n",
       "    <tr>\n",
       "      <th>0</th>\n",
       "      <td>4715.0</td>\n",
       "      <td>Online Vegan Vegetarian Cooking School</td>\n",
       "      <td>True</td>\n",
       "      <td>24.99</td>\n",
       "      <td>Learn to cook delicious vegan recipes. Filmed ...</td>\n",
       "      <td>2231.0</td>\n",
       "      <td>3.75</td>\n",
       "      <td>134.0</td>\n",
       "      <td>42.0</td>\n",
       "      <td>37.0</td>\n",
       "      <td>1268.0</td>\n",
       "      <td>2010-08-05T22:06:13Z</td>\n",
       "      <td>2020-11-06</td>\n",
       "      <td>Lifestyle</td>\n",
       "      <td>Food &amp; Beverage</td>\n",
       "      <td>Vegan Cooking</td>\n",
       "      <td>English</td>\n",
       "      <td>/course/vegan-vegetarian-cooking-school/</td>\n",
       "      <td>Angela Poch</td>\n",
       "      <td>/user/angelapoch/</td>\n",
       "    </tr>\n",
       "    <tr>\n",
       "      <th>1</th>\n",
       "      <td>1769.0</td>\n",
       "      <td>The Lean Startup Talk at Stanford E-Corner</td>\n",
       "      <td>False</td>\n",
       "      <td>0.00</td>\n",
       "      <td>Debunking Myths of Entrepreneurship A startup ...</td>\n",
       "      <td>26474.0</td>\n",
       "      <td>4.50</td>\n",
       "      <td>709.0</td>\n",
       "      <td>112.0</td>\n",
       "      <td>9.0</td>\n",
       "      <td>88.0</td>\n",
       "      <td>2010-01-12T18:09:46Z</td>\n",
       "      <td>NaN</td>\n",
       "      <td>Business</td>\n",
       "      <td>Entrepreneurship</td>\n",
       "      <td>Lean Startup</td>\n",
       "      <td>English</td>\n",
       "      <td>/course/the-lean-startup-debunking-myths-of-en...</td>\n",
       "      <td>Eric Ries</td>\n",
       "      <td>/user/ericries/</td>\n",
       "    </tr>\n",
       "    <tr>\n",
       "      <th>2</th>\n",
       "      <td>5664.0</td>\n",
       "      <td>How To Become a Vegan, Vegetarian, or Flexitarian</td>\n",
       "      <td>True</td>\n",
       "      <td>19.99</td>\n",
       "      <td>Get the tools you need for a lifestyle change ...</td>\n",
       "      <td>1713.0</td>\n",
       "      <td>4.40</td>\n",
       "      <td>41.0</td>\n",
       "      <td>13.0</td>\n",
       "      <td>14.0</td>\n",
       "      <td>82.0</td>\n",
       "      <td>2010-10-13T18:07:17Z</td>\n",
       "      <td>2019-10-09</td>\n",
       "      <td>Lifestyle</td>\n",
       "      <td>Other Lifestyle</td>\n",
       "      <td>Vegan Cooking</td>\n",
       "      <td>English</td>\n",
       "      <td>/course/see-my-personal-motivation-for-becomin...</td>\n",
       "      <td>Angela Poch</td>\n",
       "      <td>/user/angelapoch/</td>\n",
       "    </tr>\n",
       "    <tr>\n",
       "      <th>3</th>\n",
       "      <td>7723.0</td>\n",
       "      <td>How to Train a Puppy</td>\n",
       "      <td>True</td>\n",
       "      <td>199.99</td>\n",
       "      <td>Train your puppy the right way with Dr. Ian Du...</td>\n",
       "      <td>4988.0</td>\n",
       "      <td>4.80</td>\n",
       "      <td>395.0</td>\n",
       "      <td>88.0</td>\n",
       "      <td>36.0</td>\n",
       "      <td>1511.0</td>\n",
       "      <td>2011-06-20T20:08:38Z</td>\n",
       "      <td>2016-01-13</td>\n",
       "      <td>Lifestyle</td>\n",
       "      <td>Pet Care &amp; Training</td>\n",
       "      <td>Pet Training</td>\n",
       "      <td>English</td>\n",
       "      <td>/course/complete-dunbar-collection/</td>\n",
       "      <td>Ian Dunbar</td>\n",
       "      <td>/user/ian-dunbar/</td>\n",
       "    </tr>\n",
       "    <tr>\n",
       "      <th>4</th>\n",
       "      <td>8157.0</td>\n",
       "      <td>Web Design from the Ground Up</td>\n",
       "      <td>True</td>\n",
       "      <td>159.99</td>\n",
       "      <td>Learn web design online: Everything you need t...</td>\n",
       "      <td>1266.0</td>\n",
       "      <td>4.75</td>\n",
       "      <td>38.0</td>\n",
       "      <td>12.0</td>\n",
       "      <td>38.0</td>\n",
       "      <td>569.0</td>\n",
       "      <td>2011-06-23T18:31:20Z</td>\n",
       "      <td>NaN</td>\n",
       "      <td>Design</td>\n",
       "      <td>Web Design</td>\n",
       "      <td>Web Design</td>\n",
       "      <td>English</td>\n",
       "      <td>/course/web-design-from-the-ground-up/</td>\n",
       "      <td>E Learning Lab</td>\n",
       "      <td>/user/edwin-ang-2/</td>\n",
       "    </tr>\n",
       "  </tbody>\n",
       "</table>\n",
       "</div>"
      ],
      "text/plain": [
       "       id                                              title  is_paid   price  \\\n",
       "0  4715.0             Online Vegan Vegetarian Cooking School     True   24.99   \n",
       "1  1769.0         The Lean Startup Talk at Stanford E-Corner    False    0.00   \n",
       "2  5664.0  How To Become a Vegan, Vegetarian, or Flexitarian     True   19.99   \n",
       "3  7723.0                               How to Train a Puppy     True  199.99   \n",
       "4  8157.0                      Web Design from the Ground Up     True  159.99   \n",
       "\n",
       "                                            headline  num_subscribers  \\\n",
       "0  Learn to cook delicious vegan recipes. Filmed ...           2231.0   \n",
       "1  Debunking Myths of Entrepreneurship A startup ...          26474.0   \n",
       "2  Get the tools you need for a lifestyle change ...           1713.0   \n",
       "3  Train your puppy the right way with Dr. Ian Du...           4988.0   \n",
       "4  Learn web design online: Everything you need t...           1266.0   \n",
       "\n",
       "   avg_rating  num_reviews  num_comments  num_lectures  content_length_min  \\\n",
       "0        3.75        134.0          42.0          37.0              1268.0   \n",
       "1        4.50        709.0         112.0           9.0                88.0   \n",
       "2        4.40         41.0          13.0          14.0                82.0   \n",
       "3        4.80        395.0          88.0          36.0              1511.0   \n",
       "4        4.75         38.0          12.0          38.0               569.0   \n",
       "\n",
       "         published_time last_update_date   category          subcategory  \\\n",
       "0  2010-08-05T22:06:13Z       2020-11-06  Lifestyle      Food & Beverage   \n",
       "1  2010-01-12T18:09:46Z              NaN   Business     Entrepreneurship   \n",
       "2  2010-10-13T18:07:17Z       2019-10-09  Lifestyle      Other Lifestyle   \n",
       "3  2011-06-20T20:08:38Z       2016-01-13  Lifestyle  Pet Care & Training   \n",
       "4  2011-06-23T18:31:20Z              NaN     Design           Web Design   \n",
       "\n",
       "           topic language                                         course_url  \\\n",
       "0  Vegan Cooking  English           /course/vegan-vegetarian-cooking-school/   \n",
       "1   Lean Startup  English  /course/the-lean-startup-debunking-myths-of-en...   \n",
       "2  Vegan Cooking  English  /course/see-my-personal-motivation-for-becomin...   \n",
       "3   Pet Training  English                /course/complete-dunbar-collection/   \n",
       "4     Web Design  English             /course/web-design-from-the-ground-up/   \n",
       "\n",
       "  instructor_name      instructor_url  \n",
       "0     Angela Poch   /user/angelapoch/  \n",
       "1       Eric Ries     /user/ericries/  \n",
       "2     Angela Poch   /user/angelapoch/  \n",
       "3      Ian Dunbar   /user/ian-dunbar/  \n",
       "4  E Learning Lab  /user/edwin-ang-2/  "
      ]
     },
     "execution_count": 5,
     "metadata": {},
     "output_type": "execute_result"
    }
   ],
   "source": [
    "udemy_cursos.head(5)"
   ]
  },
  {
   "attachments": {},
   "cell_type": "markdown",
   "metadata": {},
   "source": [
    "# 3\\. Dataset Udemy\n",
    "\n",
    "Nesta seção será realizada a análise do dataset da Udemy"
   ]
  },
  {
   "attachments": {},
   "cell_type": "markdown",
   "metadata": {},
   "source": [
    "## 3\\.1 Analisando o dataset"
   ]
  },
  {
   "cell_type": "code",
   "execution_count": 6,
   "metadata": {},
   "outputs": [
    {
     "name": "stdout",
     "output_type": "stream",
     "text": [
      "<class 'pandas.core.frame.DataFrame'>\n",
      "RangeIndex: 209734 entries, 0 to 209733\n",
      "Data columns (total 20 columns):\n",
      " #   Column              Non-Null Count   Dtype  \n",
      "---  ------              --------------   -----  \n",
      " 0   id                  209734 non-null  float64\n",
      " 1   title               209734 non-null  object \n",
      " 2   is_paid             209734 non-null  bool   \n",
      " 3   price               209734 non-null  float64\n",
      " 4   headline            209707 non-null  object \n",
      " 5   num_subscribers     209734 non-null  float64\n",
      " 6   avg_rating          209734 non-null  float64\n",
      " 7   num_reviews         209734 non-null  float64\n",
      " 8   num_comments        209734 non-null  float64\n",
      " 9   num_lectures        209734 non-null  float64\n",
      " 10  content_length_min  209734 non-null  float64\n",
      " 11  published_time      209734 non-null  object \n",
      " 12  last_update_date    209597 non-null  object \n",
      " 13  category            209734 non-null  object \n",
      " 14  subcategory         209734 non-null  object \n",
      " 15  topic               208776 non-null  object \n",
      " 16  language            209734 non-null  object \n",
      " 17  course_url          209734 non-null  object \n",
      " 18  instructor_name     209729 non-null  object \n",
      " 19  instructor_url      209307 non-null  object \n",
      "dtypes: bool(1), float64(8), object(11)\n",
      "memory usage: 30.6+ MB\n"
     ]
    }
   ],
   "source": [
    "udemy_cursos.info()"
   ]
  },
  {
   "cell_type": "code",
   "execution_count": 7,
   "metadata": {},
   "outputs": [
    {
     "data": {
      "text/plain": [
       "id                      0\n",
       "title                   0\n",
       "is_paid                 0\n",
       "price                   0\n",
       "headline               27\n",
       "num_subscribers         0\n",
       "avg_rating              0\n",
       "num_reviews             0\n",
       "num_comments            0\n",
       "num_lectures            0\n",
       "content_length_min      0\n",
       "published_time          0\n",
       "last_update_date      137\n",
       "category                0\n",
       "subcategory             0\n",
       "topic                 958\n",
       "language                0\n",
       "course_url              0\n",
       "instructor_name         5\n",
       "instructor_url        427\n",
       "dtype: int64"
      ]
     },
     "execution_count": 7,
     "metadata": {},
     "output_type": "execute_result"
    }
   ],
   "source": [
    "udemy_cursos.isna().sum()"
   ]
  },
  {
   "cell_type": "code",
   "execution_count": 8,
   "metadata": {},
   "outputs": [],
   "source": [
    "# Altera a maneira que o Pandas mostra as colunas\n",
    "pd.set_option('display.max_columns', 0) # default:0, None mostra todas as colunas\n",
    "pd.set_option('display.max_colwidth', 50) # defaul:50, None mostra o conteúdo completo das colunas"
   ]
  },
  {
   "cell_type": "code",
   "execution_count": 9,
   "metadata": {},
   "outputs": [],
   "source": [
    "# Converte os tipos de dados\n",
    "udemy_cursos['num_subscribers'] = udemy_cursos['num_subscribers'].astype(int)\n",
    "udemy_cursos['num_reviews'] = udemy_cursos['num_reviews'].astype(int)\n",
    "udemy_cursos['num_comments'] = udemy_cursos['num_comments'].astype(int)\n",
    "udemy_cursos['num_lectures'] = udemy_cursos['num_lectures'].astype(int)\n",
    "udemy_cursos['num_lectures'] = udemy_cursos['num_lectures'].astype(int)\n",
    "udemy_cursos['content_length_min'] = udemy_cursos['content_length_min'].astype(int)\n",
    "udemy_cursos['published_time'] = pd.to_datetime(udemy_cursos['published_time'], dayfirst=False, errors = 'coerce')\n",
    "udemy_cursos['last_update_date'] = pd.to_datetime(udemy_cursos['last_update_date'], format='%Y-%m-%d', errors = 'raise')"
   ]
  },
  {
   "cell_type": "code",
   "execution_count": 10,
   "metadata": {},
   "outputs": [],
   "source": [
    "# Preenche os campos nulos\n",
    "udemy_cursos = (udemy_cursos.fillna('-'))"
   ]
  },
  {
   "cell_type": "code",
   "execution_count": 11,
   "metadata": {},
   "outputs": [
    {
     "data": {
      "text/plain": [
       "id                                float64\n",
       "title                              object\n",
       "is_paid                              bool\n",
       "price                             float64\n",
       "headline                           object\n",
       "num_subscribers                     int32\n",
       "avg_rating                        float64\n",
       "num_reviews                         int32\n",
       "num_comments                        int32\n",
       "num_lectures                        int32\n",
       "content_length_min                  int32\n",
       "published_time        datetime64[ns, UTC]\n",
       "last_update_date                   object\n",
       "category                           object\n",
       "subcategory                        object\n",
       "topic                              object\n",
       "language                           object\n",
       "course_url                         object\n",
       "instructor_name                    object\n",
       "instructor_url                     object\n",
       "dtype: object"
      ]
     },
     "execution_count": 11,
     "metadata": {},
     "output_type": "execute_result"
    }
   ],
   "source": [
    "udemy_cursos.dtypes"
   ]
  },
  {
   "cell_type": "code",
   "execution_count": 12,
   "metadata": {},
   "outputs": [
    {
     "data": {
      "text/html": [
       "<div>\n",
       "<style scoped>\n",
       "    .dataframe tbody tr th:only-of-type {\n",
       "        vertical-align: middle;\n",
       "    }\n",
       "\n",
       "    .dataframe tbody tr th {\n",
       "        vertical-align: top;\n",
       "    }\n",
       "\n",
       "    .dataframe thead th {\n",
       "        text-align: right;\n",
       "    }\n",
       "</style>\n",
       "<table border=\"1\" class=\"dataframe\">\n",
       "  <thead>\n",
       "    <tr style=\"text-align: right;\">\n",
       "      <th></th>\n",
       "      <th>id</th>\n",
       "      <th>title</th>\n",
       "      <th>is_paid</th>\n",
       "      <th>price</th>\n",
       "      <th>headline</th>\n",
       "      <th>num_subscribers</th>\n",
       "      <th>avg_rating</th>\n",
       "      <th>num_reviews</th>\n",
       "      <th>num_comments</th>\n",
       "      <th>num_lectures</th>\n",
       "      <th>content_length_min</th>\n",
       "      <th>published_time</th>\n",
       "      <th>last_update_date</th>\n",
       "      <th>category</th>\n",
       "      <th>subcategory</th>\n",
       "      <th>topic</th>\n",
       "      <th>language</th>\n",
       "      <th>course_url</th>\n",
       "      <th>instructor_name</th>\n",
       "      <th>instructor_url</th>\n",
       "    </tr>\n",
       "  </thead>\n",
       "  <tbody>\n",
       "    <tr>\n",
       "      <th>0</th>\n",
       "      <td>4715.0</td>\n",
       "      <td>Online Vegan Vegetarian Cooking School</td>\n",
       "      <td>True</td>\n",
       "      <td>24.99</td>\n",
       "      <td>Learn to cook delicious vegan recipes. Filmed ...</td>\n",
       "      <td>2231</td>\n",
       "      <td>3.75</td>\n",
       "      <td>134</td>\n",
       "      <td>42</td>\n",
       "      <td>37</td>\n",
       "      <td>1268</td>\n",
       "      <td>2010-08-05 22:06:13+00:00</td>\n",
       "      <td>2020-11-06 00:00:00</td>\n",
       "      <td>Lifestyle</td>\n",
       "      <td>Food &amp; Beverage</td>\n",
       "      <td>Vegan Cooking</td>\n",
       "      <td>English</td>\n",
       "      <td>/course/vegan-vegetarian-cooking-school/</td>\n",
       "      <td>Angela Poch</td>\n",
       "      <td>/user/angelapoch/</td>\n",
       "    </tr>\n",
       "    <tr>\n",
       "      <th>1</th>\n",
       "      <td>1769.0</td>\n",
       "      <td>The Lean Startup Talk at Stanford E-Corner</td>\n",
       "      <td>False</td>\n",
       "      <td>0.00</td>\n",
       "      <td>Debunking Myths of Entrepreneurship A startup ...</td>\n",
       "      <td>26474</td>\n",
       "      <td>4.50</td>\n",
       "      <td>709</td>\n",
       "      <td>112</td>\n",
       "      <td>9</td>\n",
       "      <td>88</td>\n",
       "      <td>2010-01-12 18:09:46+00:00</td>\n",
       "      <td>-</td>\n",
       "      <td>Business</td>\n",
       "      <td>Entrepreneurship</td>\n",
       "      <td>Lean Startup</td>\n",
       "      <td>English</td>\n",
       "      <td>/course/the-lean-startup-debunking-myths-of-en...</td>\n",
       "      <td>Eric Ries</td>\n",
       "      <td>/user/ericries/</td>\n",
       "    </tr>\n",
       "    <tr>\n",
       "      <th>2</th>\n",
       "      <td>5664.0</td>\n",
       "      <td>How To Become a Vegan, Vegetarian, or Flexitarian</td>\n",
       "      <td>True</td>\n",
       "      <td>19.99</td>\n",
       "      <td>Get the tools you need for a lifestyle change ...</td>\n",
       "      <td>1713</td>\n",
       "      <td>4.40</td>\n",
       "      <td>41</td>\n",
       "      <td>13</td>\n",
       "      <td>14</td>\n",
       "      <td>82</td>\n",
       "      <td>2010-10-13 18:07:17+00:00</td>\n",
       "      <td>2019-10-09 00:00:00</td>\n",
       "      <td>Lifestyle</td>\n",
       "      <td>Other Lifestyle</td>\n",
       "      <td>Vegan Cooking</td>\n",
       "      <td>English</td>\n",
       "      <td>/course/see-my-personal-motivation-for-becomin...</td>\n",
       "      <td>Angela Poch</td>\n",
       "      <td>/user/angelapoch/</td>\n",
       "    </tr>\n",
       "    <tr>\n",
       "      <th>3</th>\n",
       "      <td>7723.0</td>\n",
       "      <td>How to Train a Puppy</td>\n",
       "      <td>True</td>\n",
       "      <td>199.99</td>\n",
       "      <td>Train your puppy the right way with Dr. Ian Du...</td>\n",
       "      <td>4988</td>\n",
       "      <td>4.80</td>\n",
       "      <td>395</td>\n",
       "      <td>88</td>\n",
       "      <td>36</td>\n",
       "      <td>1511</td>\n",
       "      <td>2011-06-20 20:08:38+00:00</td>\n",
       "      <td>2016-01-13 00:00:00</td>\n",
       "      <td>Lifestyle</td>\n",
       "      <td>Pet Care &amp; Training</td>\n",
       "      <td>Pet Training</td>\n",
       "      <td>English</td>\n",
       "      <td>/course/complete-dunbar-collection/</td>\n",
       "      <td>Ian Dunbar</td>\n",
       "      <td>/user/ian-dunbar/</td>\n",
       "    </tr>\n",
       "    <tr>\n",
       "      <th>4</th>\n",
       "      <td>8157.0</td>\n",
       "      <td>Web Design from the Ground Up</td>\n",
       "      <td>True</td>\n",
       "      <td>159.99</td>\n",
       "      <td>Learn web design online: Everything you need t...</td>\n",
       "      <td>1266</td>\n",
       "      <td>4.75</td>\n",
       "      <td>38</td>\n",
       "      <td>12</td>\n",
       "      <td>38</td>\n",
       "      <td>569</td>\n",
       "      <td>2011-06-23 18:31:20+00:00</td>\n",
       "      <td>-</td>\n",
       "      <td>Design</td>\n",
       "      <td>Web Design</td>\n",
       "      <td>Web Design</td>\n",
       "      <td>English</td>\n",
       "      <td>/course/web-design-from-the-ground-up/</td>\n",
       "      <td>E Learning Lab</td>\n",
       "      <td>/user/edwin-ang-2/</td>\n",
       "    </tr>\n",
       "  </tbody>\n",
       "</table>\n",
       "</div>"
      ],
      "text/plain": [
       "       id  ...      instructor_url\n",
       "0  4715.0  ...   /user/angelapoch/\n",
       "1  1769.0  ...     /user/ericries/\n",
       "2  5664.0  ...   /user/angelapoch/\n",
       "3  7723.0  ...   /user/ian-dunbar/\n",
       "4  8157.0  ...  /user/edwin-ang-2/\n",
       "\n",
       "[5 rows x 20 columns]"
      ]
     },
     "execution_count": 12,
     "metadata": {},
     "output_type": "execute_result"
    }
   ],
   "source": [
    "udemy_cursos.head()"
   ]
  },
  {
   "cell_type": "code",
   "execution_count": 13,
   "metadata": {},
   "outputs": [
    {
     "data": {
      "text/html": [
       "<div>\n",
       "<style scoped>\n",
       "    .dataframe tbody tr th:only-of-type {\n",
       "        vertical-align: middle;\n",
       "    }\n",
       "\n",
       "    .dataframe tbody tr th {\n",
       "        vertical-align: top;\n",
       "    }\n",
       "\n",
       "    .dataframe thead th {\n",
       "        text-align: right;\n",
       "    }\n",
       "</style>\n",
       "<table border=\"1\" class=\"dataframe\">\n",
       "  <thead>\n",
       "    <tr style=\"text-align: right;\">\n",
       "      <th></th>\n",
       "      <th>id</th>\n",
       "      <th>title</th>\n",
       "      <th>is_paid</th>\n",
       "      <th>price</th>\n",
       "      <th>headline</th>\n",
       "      <th>num_subscribers</th>\n",
       "      <th>avg_rating</th>\n",
       "      <th>num_reviews</th>\n",
       "      <th>num_comments</th>\n",
       "      <th>num_lectures</th>\n",
       "      <th>content_length_min</th>\n",
       "      <th>published_time</th>\n",
       "      <th>last_update_date</th>\n",
       "      <th>category</th>\n",
       "      <th>subcategory</th>\n",
       "      <th>topic</th>\n",
       "      <th>language</th>\n",
       "      <th>course_url</th>\n",
       "      <th>instructor_name</th>\n",
       "      <th>instructor_url</th>\n",
       "    </tr>\n",
       "  </thead>\n",
       "  <tbody>\n",
       "  </tbody>\n",
       "</table>\n",
       "</div>"
      ],
      "text/plain": [
       "Empty DataFrame\n",
       "Columns: [id, title, is_paid, price, headline, num_subscribers, avg_rating, num_reviews, num_comments, num_lectures, content_length_min, published_time, last_update_date, category, subcategory, topic, language, course_url, instructor_name, instructor_url]\n",
       "Index: []"
      ]
     },
     "execution_count": 13,
     "metadata": {},
     "output_type": "execute_result"
    }
   ],
   "source": [
    "# Mostra as linhas que possuem campo nulo\n",
    "udemy_cursos[udemy_cursos['last_update_date'].isna()]"
   ]
  },
  {
   "cell_type": "code",
   "execution_count": 14,
   "metadata": {},
   "outputs": [
    {
     "data": {
      "text/plain": [
       "Index(['id', 'title', 'is_paid', 'price', 'headline', 'num_subscribers',\n",
       "       'avg_rating', 'num_reviews', 'num_comments', 'num_lectures',\n",
       "       'content_length_min', 'published_time', 'last_update_date', 'category',\n",
       "       'subcategory', 'topic', 'language', 'course_url', 'instructor_name',\n",
       "       'instructor_url'],\n",
       "      dtype='object')"
      ]
     },
     "execution_count": 14,
     "metadata": {},
     "output_type": "execute_result"
    }
   ],
   "source": [
    "udemy_cursos.columns"
   ]
  },
  {
   "cell_type": "code",
   "execution_count": 15,
   "metadata": {},
   "outputs": [
    {
     "data": {
      "text/plain": [
       "Development             31643\n",
       "IT & Software           30479\n",
       "Teaching & Academics    26293\n",
       "Business                24670\n",
       "Personal Development    21239\n",
       "Design                  15256\n",
       "Health & Fitness        11568\n",
       "Marketing               11221\n",
       "Lifestyle               10653\n",
       "Finance & Accounting    10572\n",
       "Office Productivity      6297\n",
       "Music                    5977\n",
       "Photography & Video      3866\n",
       "Name: category, dtype: int64"
      ]
     },
     "execution_count": 15,
     "metadata": {},
     "output_type": "execute_result"
    }
   ],
   "source": [
    "# Mostra a quantidade de cursos por categoria\n",
    "udemy_cursos['category'].value_counts()"
   ]
  },
  {
   "cell_type": "code",
   "execution_count": 16,
   "metadata": {},
   "outputs": [
    {
     "data": {
      "text/plain": [
       "English       123921\n",
       "Portuguese     18471\n",
       "Spanish        17428\n",
       "Turkish         8100\n",
       "Japanese        7006\n",
       "German          6101\n",
       "French          5465\n",
       "Arabic          5197\n",
       "Italian         3637\n",
       "Russian         2686\n",
       "Name: language, dtype: int64"
      ]
     },
     "execution_count": 16,
     "metadata": {},
     "output_type": "execute_result"
    }
   ],
   "source": [
    "# Mostra a quantidade de cursos por idioma\n",
    "udemy_cursos['language'].value_counts().head(10)"
   ]
  },
  {
   "attachments": {},
   "cell_type": "markdown",
   "metadata": {},
   "source": [
    "## 3\\.2 Visualizando o dataset"
   ]
  },
  {
   "attachments": {},
   "cell_type": "markdown",
   "metadata": {},
   "source": [
    "### Preço"
   ]
  },
  {
   "cell_type": "code",
   "execution_count": null,
   "metadata": {},
   "outputs": [],
   "source": [
    "# Função para gerar moeda no padrão brasileiro\n",
    "# locale.setlocale(locale.LC_ALL, 'pt_BR.UTF-8') 'en_us'\n",
    "# locale.setlocale(locale.LC_MONETARY, 'pt_BR.UTF-8') 'en_us'\n",
    "import locale\n",
    "\n",
    "udemy_pago = len(udemy_cursos[udemy_cursos[\"is_paid\"]==True])\n",
    "udemy_gratis = len(udemy_cursos[udemy_cursos[\"is_paid\"]==False])\n",
    "udemy_total = len(udemy_cursos)\n",
    "\n",
    "def format_currency(amount):\n",
    "    locale.setlocale(locale.LC_ALL, 'pt_BR.UTF-8')\n",
    "    locale.setlocale(locale.LC_MONETARY, 'pt_BR.UTF-8')\n",
    "    formatted_amount = locale.currency(amount, grouping=True)\n",
    "    return formatted_amount\n",
    "\n",
    "#print(f'Do total de {udemy_total:n} cursos, cerca de 90% ({udemy_pago:,}) dos cursos são pagos e 10% ({udemy_gratis:,}) são gratuitos.')\n",
    "#print(f'Do total de {udemy_total:n} cursos, {format_currency(udemy_pago)} são pagos e {format_currency(udemy_gratis)} são gratuitos.')"
   ]
  },
  {
   "cell_type": "code",
   "execution_count": 17,
   "metadata": {},
   "outputs": [
    {
     "name": "stdout",
     "output_type": "stream",
     "text": [
      "Porcentagem de preço:\n",
      "19.99     20.8%\n",
      "0.00      10.4%\n",
      "199.99     8.3%\n",
      "99.99      4.8%\n",
      "24.99      4.7%\n",
      "Name: price, dtype: object\n",
      "\n",
      "Cerca de 20% dos cursos custam $20 e apenas 8% custam $200\n"
     ]
    }
   ],
   "source": [
    "udemy_price = (udemy_cursos['price'].value_counts(normalize=True).mul(100).round(1).astype(str) + '%').head(5)\n",
    "#udemy_price_real = udemy_cursos.loc[udemy_cursos['language'] == 'Portuguese']['price'].value_counts(normalize=True).mul(100).round(1).astype(str) + '%'\n",
    "#udemy_price_dolar = udemy_cursos.loc[udemy_cursos['language'] == 'English']['price'].value_counts(normalize=True).mul(100).round(1).astype(str) + '%'\n",
    "print(f'Porcentagem de preço:\\n{udemy_price}\\n')\n",
    "print('Cerca de 20% dos cursos custam $20 e apenas 8% custam $200')"
   ]
  },
  {
   "cell_type": "code",
   "execution_count": 80,
   "metadata": {},
   "outputs": [
    {
     "name": "stdout",
     "output_type": "stream",
     "text": [
      "Os cursos com maior quantidade de matrículas custam $19.99 e $199.99\n"
     ]
    },
    {
     "data": {
      "image/png": "[encoded data removed]",
      "text/plain": [
       "<Figure size 800x500 with 1 Axes>"
      ]
     },
     "metadata": {},
     "output_type": "display_data"
    }
   ],
   "source": [
    "# Bar plot mostrando a distribuição de preço pelo número de matrículas\n",
    "udemy_price_subscribers = (udemy_cursos.loc[udemy_cursos['price'] < 200]\n",
    "        .groupby(by='price', as_index=False)['num_subscribers']\n",
    "        .sum()\n",
    "        .sort_values(by='num_subscribers',ascending=False))\n",
    "\n",
    "plt.figure(figsize=(8,5), dpi=100)\n",
    "ax = sns.barplot(data=udemy_price_subscribers[:10], x='price', y='num_subscribers', color='#42b7bd')\n",
    "ax.set(xlabel='Preço ($)', ylabel='Matrículas')\n",
    "patch_h = [patch.get_height() for patch in ax.patches]   \n",
    "# patch_h contains the heights of all the patches now\n",
    "\n",
    "idx_tallest = np.argmax(patch_h)   \n",
    "# np.argmax return the index of largest value of the list\n",
    "\n",
    "ax.patches[idx_tallest].set_facecolor('#a834a8')  \n",
    "\n",
    "print('Os cursos com maior quantidade de matrículas custam $19.99 e $199.99')"
   ]
  },
  {
   "cell_type": "code",
   "execution_count": 21,
   "metadata": {},
   "outputs": [
    {
     "data": {
      "image/png": "[encoded data removed]",
      "text/plain": [
       "<Figure size 400x400 with 1 Axes>"
      ]
     },
     "metadata": {},
     "output_type": "display_data"
    },
    {
     "name": "stdout",
     "output_type": "stream",
     "text": [
      "Do total de 209734 cursos, cerca de 90% (187,996) dos cursos são pagos e 10% (21,738) são gratuitos.\n"
     ]
    }
   ],
   "source": [
    "# Visualização em pizza da porcentagem de cursos grátis e pagos.\n",
    "plt.figure(figsize = (4, 4))\n",
    "plt.pie(udemy_cursos.groupby(['is_paid']).size(),\n",
    "        labels = ['Grátis', 'Pago'], \n",
    "        autopct = '%1.1f%%',\n",
    "        startangle = 90, colors = ['#fd6767','#1b9e77'],\n",
    "        textprops = {'size': 12},\n",
    "        wedgeprops= {\"edgecolor\":\"white\",\n",
    "                     'linewidth': 1,\n",
    "                     'antialiased': True})\n",
    "plt.axis('equal')\n",
    "plt.title('Tipos de cursos:\\n',loc='center', fontdict={'fontsize': 12})\n",
    "plt.show()\n",
    "\n",
    "print(f'Do total de {udemy_total:n} cursos, cerca de 90% ({udemy_pago:,}) dos cursos são pagos e 10% ({udemy_gratis:,}) são gratuitos.')"
   ]
  },
  {
   "cell_type": "code",
   "execution_count": 59,
   "metadata": {},
   "outputs": [
    {
     "data": {
      "application/vnd.plotly.v1+json": {
       "config": {
        "plotlyServerURL": "https://plot.ly"
       },
       "data": [
        {
         "domain": {
          "x": [
           0,
           1
          ],
          "y": [
           0,
           1
          ]
         },
         "hole": 0.25,
         "hovertemplate": "label=%{label}<br>value=%{value}<extra></extra>",
         "labels": [
          "Pago",
          "Grátis"
         ],
         "legendgroup": "",
         "name": "",
         "rotation": 150,
         "showlegend": true,
         "textposition": "inside",
         "texttemplate": "%{label}<br>%{value}%",
         "type": "pie",
         "values": [
          89.64,
          10.36
         ]
        }
       ],
       "layout": {
        "legend": {
         "tracegroupgap": 0
        },
        "margin": {
         "t": 60
        },
        "showlegend": false,
        "template": {
         "data": {
          "bar": [
           {
            "error_x": {
             "color": "#2a3f5f"
            },
            "error_y": {
             "color": "#2a3f5f"
            },
            "marker": {
             "line": {
              "color": "#E5ECF6",
              "width": 0.5
             },
             "pattern": {
              "fillmode": "overlay",
              "size": 10,
              "solidity": 0.2
             }
            },
            "type": "bar"
           }
          ],
          "barpolar": [
           {
            "marker": {
             "line": {
              "color": "#E5ECF6",
              "width": 0.5
             },
             "pattern": {
              "fillmode": "overlay",
              "size": 10,
              "solidity": 0.2
             }
            },
            "type": "barpolar"
           }
          ],
          "carpet": [
           {
            "aaxis": {
             "endlinecolor": "#2a3f5f",
             "gridcolor": "white",
             "linecolor": "white",
             "minorgridcolor": "white",
             "startlinecolor": "#2a3f5f"
            },
            "baxis": {
             "endlinecolor": "#2a3f5f",
             "gridcolor": "white",
             "linecolor": "white",
             "minorgridcolor": "white",
             "startlinecolor": "#2a3f5f"
            },
            "type": "carpet"
           }
          ],
          "choropleth": [
           {
            "colorbar": {
             "outlinewidth": 0,
             "ticks": ""
            },
            "type": "choropleth"
           }
          ],
          "contour": [
           {
            "colorbar": {
             "outlinewidth": 0,
             "ticks": ""
            },
            "colorscale": [
             [
              0,
              "#0d0887"
             ],
             [
              0.1111111111111111,
              "#46039f"
             ],
             [
              0.2222222222222222,
              "#7201a8"
             ],
             [
              0.3333333333333333,
              "#9c179e"
             ],
             [
              0.4444444444444444,
              "#bd3786"
             ],
             [
              0.5555555555555556,
              "#d8576b"
             ],
             [
              0.6666666666666666,
              "#ed7953"
             ],
             [
              0.7777777777777778,
              "#fb9f3a"
             ],
             [
              0.8888888888888888,
              "#fdca26"
             ],
             [
              1,
              "#f0f921"
             ]
            ],
            "type": "contour"
           }
          ],
          "contourcarpet": [
           {
            "colorbar": {
             "outlinewidth": 0,
             "ticks": ""
            },
            "type": "contourcarpet"
           }
          ],
          "heatmap": [
           {
            "colorbar": {
             "outlinewidth": 0,
             "ticks": ""
            },
            "colorscale": [
             [
              0,
              "#0d0887"
             ],
             [
              0.1111111111111111,
              "#46039f"
             ],
             [
              0.2222222222222222,
              "#7201a8"
             ],
             [
              0.3333333333333333,
              "#9c179e"
             ],
             [
              0.4444444444444444,
              "#bd3786"
             ],
             [
              0.5555555555555556,
              "#d8576b"
             ],
             [
              0.6666666666666666,
              "#ed7953"
             ],
             [
              0.7777777777777778,
              "#fb9f3a"
             ],
             [
              0.8888888888888888,
              "#fdca26"
             ],
             [
              1,
              "#f0f921"
             ]
            ],
            "type": "heatmap"
           }
          ],
          "heatmapgl": [
           {
            "colorbar": {
             "outlinewidth": 0,
             "ticks": ""
            },
            "colorscale": [
             [
              0,
              "#0d0887"
             ],
             [
              0.1111111111111111,
              "#46039f"
             ],
             [
              0.2222222222222222,
              "#7201a8"
             ],
             [
              0.3333333333333333,
              "#9c179e"
             ],
             [
              0.4444444444444444,
              "#bd3786"
             ],
             [
              0.5555555555555556,
              "#d8576b"
             ],
             [
              0.6666666666666666,
              "#ed7953"
             ],
             [
              0.7777777777777778,
              "#fb9f3a"
             ],
             [
              0.8888888888888888,
              "#fdca26"
             ],
             [
              1,
              "#f0f921"
             ]
            ],
            "type": "heatmapgl"
           }
          ],
          "histogram": [
           {
            "marker": {
             "pattern": {
              "fillmode": "overlay",
              "size": 10,
              "solidity": 0.2
             }
            },
            "type": "histogram"
           }
          ],
          "histogram2d": [
           {
            "colorbar": {
             "outlinewidth": 0,
             "ticks": ""
            },
            "colorscale": [
             [
              0,
              "#0d0887"
             ],
             [
              0.1111111111111111,
              "#46039f"
             ],
             [
              0.2222222222222222,
              "#7201a8"
             ],
             [
              0.3333333333333333,
              "#9c179e"
             ],
             [
              0.4444444444444444,
              "#bd3786"
             ],
             [
              0.5555555555555556,
              "#d8576b"
             ],
             [
              0.6666666666666666,
              "#ed7953"
             ],
             [
              0.7777777777777778,
              "#fb9f3a"
             ],
             [
              0.8888888888888888,
              "#fdca26"
             ],
             [
              1,
              "#f0f921"
             ]
            ],
            "type": "histogram2d"
           }
          ],
          "histogram2dcontour": [
           {
            "colorbar": {
             "outlinewidth": 0,
             "ticks": ""
            },
            "colorscale": [
             [
              0,
              "#0d0887"
             ],
             [
              0.1111111111111111,
              "#46039f"
             ],
             [
              0.2222222222222222,
              "#7201a8"
             ],
             [
              0.3333333333333333,
              "#9c179e"
             ],
             [
              0.4444444444444444,
              "#bd3786"
             ],
             [
              0.5555555555555556,
              "#d8576b"
             ],
             [
              0.6666666666666666,
              "#ed7953"
             ],
             [
              0.7777777777777778,
              "#fb9f3a"
             ],
             [
              0.8888888888888888,
              "#fdca26"
             ],
             [
              1,
              "#f0f921"
             ]
            ],
            "type": "histogram2dcontour"
           }
          ],
          "mesh3d": [
           {
            "colorbar": {
             "outlinewidth": 0,
             "ticks": ""
            },
            "type": "mesh3d"
           }
          ],
          "parcoords": [
           {
            "line": {
             "colorbar": {
              "outlinewidth": 0,
              "ticks": ""
             }
            },
            "type": "parcoords"
           }
          ],
          "pie": [
           {
            "automargin": true,
            "type": "pie"
           }
          ],
          "scatter": [
           {
            "fillpattern": {
             "fillmode": "overlay",
             "size": 10,
             "solidity": 0.2
            },
            "type": "scatter"
           }
          ],
          "scatter3d": [
           {
            "line": {
             "colorbar": {
              "outlinewidth": 0,
              "ticks": ""
             }
            },
            "marker": {
             "colorbar": {
              "outlinewidth": 0,
              "ticks": ""
             }
            },
            "type": "scatter3d"
           }
          ],
          "scattercarpet": [
           {
            "marker": {
             "colorbar": {
              "outlinewidth": 0,
              "ticks": ""
             }
            },
            "type": "scattercarpet"
           }
          ],
          "scattergeo": [
           {
            "marker": {
             "colorbar": {
              "outlinewidth": 0,
              "ticks": ""
             }
            },
            "type": "scattergeo"
           }
          ],
          "scattergl": [
           {
            "marker": {
             "colorbar": {
              "outlinewidth": 0,
              "ticks": ""
             }
            },
            "type": "scattergl"
           }
          ],
          "scattermapbox": [
           {
            "marker": {
             "colorbar": {
              "outlinewidth": 0,
              "ticks": ""
             }
            },
            "type": "scattermapbox"
           }
          ],
          "scatterpolar": [
           {
            "marker": {
             "colorbar": {
              "outlinewidth": 0,
              "ticks": ""
             }
            },
            "type": "scatterpolar"
           }
          ],
          "scatterpolargl": [
           {
            "marker": {
             "colorbar": {
              "outlinewidth": 0,
              "ticks": ""
             }
            },
            "type": "scatterpolargl"
           }
          ],
          "scatterternary": [
           {
            "marker": {
             "colorbar": {
              "outlinewidth": 0,
              "ticks": ""
             }
            },
            "type": "scatterternary"
           }
          ],
          "surface": [
           {
            "colorbar": {
             "outlinewidth": 0,
             "ticks": ""
            },
            "colorscale": [
             [
              0,
              "#0d0887"
             ],
             [
              0.1111111111111111,
              "#46039f"
             ],
             [
              0.2222222222222222,
              "#7201a8"
             ],
             [
              0.3333333333333333,
              "#9c179e"
             ],
             [
              0.4444444444444444,
              "#bd3786"
             ],
             [
              0.5555555555555556,
              "#d8576b"
             ],
             [
              0.6666666666666666,
              "#ed7953"
             ],
             [
              0.7777777777777778,
              "#fb9f3a"
             ],
             [
              0.8888888888888888,
              "#fdca26"
             ],
             [
              1,
              "#f0f921"
             ]
            ],
            "type": "surface"
           }
          ],
          "table": [
           {
            "cells": {
             "fill": {
              "color": "#EBF0F8"
             },
             "line": {
              "color": "white"
             }
            },
            "header": {
             "fill": {
              "color": "#C8D4E3"
             },
             "line": {
              "color": "white"
             }
            },
            "type": "table"
           }
          ]
         },
         "layout": {
          "annotationdefaults": {
           "arrowcolor": "#2a3f5f",
           "arrowhead": 0,
           "arrowwidth": 1
          },
          "autotypenumbers": "strict",
          "coloraxis": {
           "colorbar": {
            "outlinewidth": 0,
            "ticks": ""
           }
          },
          "colorscale": {
           "diverging": [
            [
             0,
             "#8e0152"
            ],
            [
             0.1,
             "#c51b7d"
            ],
            [
             0.2,
             "#de77ae"
            ],
            [
             0.3,
             "#f1b6da"
            ],
            [
             0.4,
             "#fde0ef"
            ],
            [
             0.5,
             "#f7f7f7"
            ],
            [
             0.6,
             "#e6f5d0"
            ],
            [
             0.7,
             "#b8e186"
            ],
            [
             0.8,
             "#7fbc41"
            ],
            [
             0.9,
             "#4d9221"
            ],
            [
             1,
             "#276419"
            ]
           ],
           "sequential": [
            [
             0,
             "#0d0887"
            ],
            [
             0.1111111111111111,
             "#46039f"
            ],
            [
             0.2222222222222222,
             "#7201a8"
            ],
            [
             0.3333333333333333,
             "#9c179e"
            ],
            [
             0.4444444444444444,
             "#bd3786"
            ],
            [
             0.5555555555555556,
             "#d8576b"
            ],
            [
             0.6666666666666666,
             "#ed7953"
            ],
            [
             0.7777777777777778,
             "#fb9f3a"
            ],
            [
             0.8888888888888888,
             "#fdca26"
            ],
            [
             1,
             "#f0f921"
            ]
           ],
           "sequentialminus": [
            [
             0,
             "#0d0887"
            ],
            [
             0.1111111111111111,
             "#46039f"
            ],
            [
             0.2222222222222222,
             "#7201a8"
            ],
            [
             0.3333333333333333,
             "#9c179e"
            ],
            [
             0.4444444444444444,
             "#bd3786"
            ],
            [
             0.5555555555555556,
             "#d8576b"
            ],
            [
             0.6666666666666666,
             "#ed7953"
            ],
            [
             0.7777777777777778,
             "#fb9f3a"
            ],
            [
             0.8888888888888888,
             "#fdca26"
            ],
            [
             1,
             "#f0f921"
            ]
           ]
          },
          "colorway": [
           "#636efa",
           "#EF553B",
           "#00cc96",
           "#ab63fa",
           "#FFA15A",
           "#19d3f3",
           "#FF6692",
           "#B6E880",
           "#FF97FF",
           "#FECB52"
          ],
          "font": {
           "color": "#2a3f5f"
          },
          "geo": {
           "bgcolor": "white",
           "lakecolor": "white",
           "landcolor": "#E5ECF6",
           "showlakes": true,
           "showland": true,
           "subunitcolor": "white"
          },
          "hoverlabel": {
           "align": "left"
          },
          "hovermode": "closest",
          "mapbox": {
           "style": "light"
          },
          "paper_bgcolor": "white",
          "plot_bgcolor": "#E5ECF6",
          "polar": {
           "angularaxis": {
            "gridcolor": "white",
            "linecolor": "white",
            "ticks": ""
           },
           "bgcolor": "#E5ECF6",
           "radialaxis": {
            "gridcolor": "white",
            "linecolor": "white",
            "ticks": ""
           }
          },
          "scene": {
           "xaxis": {
            "backgroundcolor": "#E5ECF6",
            "gridcolor": "white",
            "gridwidth": 2,
            "linecolor": "white",
            "showbackground": true,
            "ticks": "",
            "zerolinecolor": "white"
           },
           "yaxis": {
            "backgroundcolor": "#E5ECF6",
            "gridcolor": "white",
            "gridwidth": 2,
            "linecolor": "white",
            "showbackground": true,
            "ticks": "",
            "zerolinecolor": "white"
           },
           "zaxis": {
            "backgroundcolor": "#E5ECF6",
            "gridcolor": "white",
            "gridwidth": 2,
            "linecolor": "white",
            "showbackground": true,
            "ticks": "",
            "zerolinecolor": "white"
           }
          },
          "shapedefaults": {
           "line": {
            "color": "#2a3f5f"
           }
          },
          "ternary": {
           "aaxis": {
            "gridcolor": "white",
            "linecolor": "white",
            "ticks": ""
           },
           "baxis": {
            "gridcolor": "white",
            "linecolor": "white",
            "ticks": ""
           },
           "bgcolor": "#E5ECF6",
           "caxis": {
            "gridcolor": "white",
            "linecolor": "white",
            "ticks": ""
           }
          },
          "title": {
           "x": 0.05
          },
          "xaxis": {
           "automargin": true,
           "gridcolor": "white",
           "linecolor": "white",
           "ticks": "",
           "title": {
            "standoff": 15
           },
           "zerolinecolor": "white",
           "zerolinewidth": 2
          },
          "yaxis": {
           "automargin": true,
           "gridcolor": "white",
           "linecolor": "white",
           "ticks": "",
           "title": {
            "standoff": 15
           },
           "zerolinecolor": "white",
           "zerolinewidth": 2
          }
         }
        },
        "title": {
         "text": "Top 10 idiomas por curso",
         "x": 0.5
        }
       }
      }
     },
     "metadata": {},
     "output_type": "display_data"
    }
   ],
   "source": [
    "import plotly.express as px\n",
    "# Top 15 languages\n",
    "share_of_languages_top_10 = round(udemy_cursos['is_paid'].value_counts() * 100 / len(udemy_cursos), 2)[:10]\n",
    "\n",
    "# Pie chart for top 15 languages visualization\n",
    "fig = px.pie(share_of_languages_top_10, values=share_of_languages_top_10.values, \n",
    "             names=['Pago', 'Grátis'],\n",
    "             hole=0.25,\n",
    "            )\n",
    "fig.update_traces(textposition='inside', texttemplate = '%{label}<br>%{value}%', rotation=150)\n",
    "fig.update_layout(title_text='Top 10 idiomas por curso', title_x=0.5, showlegend=False)\n",
    "fig.show()"
   ]
  },
  {
   "cell_type": "code",
   "execution_count": 22,
   "metadata": {},
   "outputs": [
    {
     "data": {
      "image/png": "[encoded data removed]",
      "text/plain": [
       "<Figure size 600x300 with 1 Axes>"
      ]
     },
     "metadata": {},
     "output_type": "display_data"
    },
    {
     "name": "stdout",
     "output_type": "stream",
     "text": [
      "A maioria dos cursos possui valor inferior a $200\n"
     ]
    }
   ],
   "source": [
    "# Distribuição dos preços dos cursos\n",
    "plt.figure(figsize = (6, 3), dpi=100)\n",
    "plt.hist(udemy_cursos[udemy_cursos['is_paid']==True]['price'], bins=75, rwidth=0.85, color='#A435F0')\n",
    "#sns.histplot(data=udemy_cursos[udemy_cursos['is_paid']==True], x='price', bins=75, color='#A435F0')\n",
    "plt.grid(axis='y', color ='Grey', linestyle ='-.', linewidth = 0.1)\n",
    "plt.xticks(range(0,1001,100))\n",
    "plt.margins(0.01)\n",
    "plt.xlabel(\"Preço ($)\", labelpad=10)\n",
    "plt.ylabel(\"\")\n",
    "plt.title('Distribuição dos preços',loc='center', fontdict={'fontsize': 12})\n",
    "\n",
    "SMALL_SIZE = 8\n",
    "MEDIUM_SIZE = 10\n",
    "BIGGER_SIZE = 12\n",
    "\n",
    "plt.rc('axes', labelsize=MEDIUM_SIZE)    # tamanho da fonte dos rótulos do eixo x e y\n",
    "plt.rc('xtick', labelsize=MEDIUM_SIZE)   # tamanho da fonte do eixo x\n",
    "plt.rc('ytick', labelsize=MEDIUM_SIZE)   # tamanho da fonte do eixo y\n",
    "plt.rc('legend', fontsize=SMALL_SIZE)    # tamanho da fonte da legenda\n",
    "plt.show()\n",
    "\n",
    "print('A maioria dos cursos possui valor inferior a $200')"
   ]
  },
  {
   "cell_type": "code",
   "execution_count": 23,
   "metadata": {},
   "outputs": [
    {
     "data": {
      "image/png": "[encoded data removed]",
      "text/plain": [
       "<Figure size 800x800 with 2 Axes>"
      ]
     },
     "metadata": {},
     "output_type": "display_data"
    },
    {
     "name": "stdout",
     "output_type": "stream",
     "text": [
      "A maioria dos cursos possui valor inferior a $200\n"
     ]
    }
   ],
   "source": [
    "# Distribuição dos preços dos cursos\n",
    "fig, (ax1, ax2) = plt.subplots(2,1, figsize = (8, 8))\n",
    "#ax1.hist(udemy_cursos[udemy_cursos['is_paid']==True]['price'], bins=75, rwidth=0.85, color='#A435F0')\n",
    "sns.histplot(ax=ax1, data=udemy_cursos[udemy_cursos['is_paid']==True], x='price', bins=75, color='#A435F0')\n",
    "sns.boxplot(ax=ax2, data=udemy_cursos, x=udemy_cursos['price'], y=udemy_cursos['category'], color='#A435F0')\n",
    "fig.suptitle('Distribuição dos preços')\n",
    "\n",
    "# get label text\n",
    "yticks, ylabels = plt.yticks()\n",
    "xticks, xlabels = plt.xticks()\n",
    "\n",
    "ax1.set(xlabel='', ylabel='')\n",
    "ax2.set(xlabel='Preço ($)', ylabel='')\n",
    "ax2.set_xlabel('Preço ($)',size=10)\n",
    "ax2.set_yticklabels(ylabels, size = 8)\n",
    "\n",
    "plt.show()\n",
    "\n",
    "print('A maioria dos cursos possui valor inferior a $200')"
   ]
  },
  {
   "cell_type": "code",
   "execution_count": 24,
   "metadata": {},
   "outputs": [
    {
     "data": {
      "text/html": [
       "<div>\n",
       "<style scoped>\n",
       "    .dataframe tbody tr th:only-of-type {\n",
       "        vertical-align: middle;\n",
       "    }\n",
       "\n",
       "    .dataframe tbody tr th {\n",
       "        vertical-align: top;\n",
       "    }\n",
       "\n",
       "    .dataframe thead th {\n",
       "        text-align: right;\n",
       "    }\n",
       "</style>\n",
       "<table border=\"1\" class=\"dataframe\">\n",
       "  <thead>\n",
       "    <tr style=\"text-align: right;\">\n",
       "      <th></th>\n",
       "      <th>id</th>\n",
       "      <th>price</th>\n",
       "      <th>num_subscribers</th>\n",
       "      <th>avg_rating</th>\n",
       "      <th>num_reviews</th>\n",
       "      <th>num_comments</th>\n",
       "      <th>num_lectures</th>\n",
       "      <th>content_length_min</th>\n",
       "    </tr>\n",
       "  </thead>\n",
       "  <tbody>\n",
       "    <tr>\n",
       "      <th>count</th>\n",
       "      <td>2.097340e+05</td>\n",
       "      <td>209734.000000</td>\n",
       "      <td>2.097340e+05</td>\n",
       "      <td>209734.000000</td>\n",
       "      <td>209734.000000</td>\n",
       "      <td>209734.000000</td>\n",
       "      <td>209734.000000</td>\n",
       "      <td>209734.000000</td>\n",
       "    </tr>\n",
       "    <tr>\n",
       "      <th>mean</th>\n",
       "      <td>3.015403e+06</td>\n",
       "      <td>81.665529</td>\n",
       "      <td>3.096992e+03</td>\n",
       "      <td>3.747179</td>\n",
       "      <td>244.358812</td>\n",
       "      <td>44.874589</td>\n",
       "      <td>36.548395</td>\n",
       "      <td>265.558856</td>\n",
       "    </tr>\n",
       "    <tr>\n",
       "      <th>std</th>\n",
       "      <td>1.342558e+06</td>\n",
       "      <td>117.317846</td>\n",
       "      <td>1.558132e+04</td>\n",
       "      <td>1.533711</td>\n",
       "      <td>2458.098276</td>\n",
       "      <td>355.773107</td>\n",
       "      <td>51.871962</td>\n",
       "      <td>454.448676</td>\n",
       "    </tr>\n",
       "    <tr>\n",
       "      <th>min</th>\n",
       "      <td>1.769000e+03</td>\n",
       "      <td>0.000000</td>\n",
       "      <td>0.000000e+00</td>\n",
       "      <td>0.000000</td>\n",
       "      <td>0.000000</td>\n",
       "      <td>0.000000</td>\n",
       "      <td>0.000000</td>\n",
       "      <td>0.000000</td>\n",
       "    </tr>\n",
       "    <tr>\n",
       "      <th>25%</th>\n",
       "      <td>1.950734e+06</td>\n",
       "      <td>19.990000</td>\n",
       "      <td>2.600000e+01</td>\n",
       "      <td>3.800000</td>\n",
       "      <td>3.000000</td>\n",
       "      <td>1.000000</td>\n",
       "      <td>11.000000</td>\n",
       "      <td>69.000000</td>\n",
       "    </tr>\n",
       "    <tr>\n",
       "      <th>50%</th>\n",
       "      <td>3.292863e+06</td>\n",
       "      <td>34.990000</td>\n",
       "      <td>2.060000e+02</td>\n",
       "      <td>4.333334</td>\n",
       "      <td>17.000000</td>\n",
       "      <td>5.000000</td>\n",
       "      <td>22.000000</td>\n",
       "      <td>133.000000</td>\n",
       "    </tr>\n",
       "    <tr>\n",
       "      <th>75%</th>\n",
       "      <td>4.189458e+06</td>\n",
       "      <td>99.990000</td>\n",
       "      <td>1.435000e+03</td>\n",
       "      <td>4.625000</td>\n",
       "      <td>74.000000</td>\n",
       "      <td>18.000000</td>\n",
       "      <td>42.000000</td>\n",
       "      <td>289.000000</td>\n",
       "    </tr>\n",
       "    <tr>\n",
       "      <th>max</th>\n",
       "      <td>4.914146e+06</td>\n",
       "      <td>999.990000</td>\n",
       "      <td>1.752364e+06</td>\n",
       "      <td>5.000000</td>\n",
       "      <td>436457.000000</td>\n",
       "      <td>39040.000000</td>\n",
       "      <td>1095.000000</td>\n",
       "      <td>22570.000000</td>\n",
       "    </tr>\n",
       "  </tbody>\n",
       "</table>\n",
       "</div>"
      ],
      "text/plain": [
       "                 id          price  ...   num_lectures  content_length_min\n",
       "count  2.097340e+05  209734.000000  ...  209734.000000       209734.000000\n",
       "mean   3.015403e+06      81.665529  ...      36.548395          265.558856\n",
       "std    1.342558e+06     117.317846  ...      51.871962          454.448676\n",
       "min    1.769000e+03       0.000000  ...       0.000000            0.000000\n",
       "25%    1.950734e+06      19.990000  ...      11.000000           69.000000\n",
       "50%    3.292863e+06      34.990000  ...      22.000000          133.000000\n",
       "75%    4.189458e+06      99.990000  ...      42.000000          289.000000\n",
       "max    4.914146e+06     999.990000  ...    1095.000000        22570.000000\n",
       "\n",
       "[8 rows x 8 columns]"
      ]
     },
     "execution_count": 24,
     "metadata": {},
     "output_type": "execute_result"
    }
   ],
   "source": [
    "udemy_pago_200 = udemy_cursos.loc[udemy_cursos['is_paid'] < 200 ]\n",
    "udemy_pago_200.describe()"
   ]
  },
  {
   "cell_type": "code",
   "execution_count": 25,
   "metadata": {},
   "outputs": [
    {
     "data": {
      "text/plain": [
       "count    209734.000000\n",
       "mean         81.665529\n",
       "std         117.317846\n",
       "min           0.000000\n",
       "25%          19.990000\n",
       "50%          34.990000\n",
       "75%          99.990000\n",
       "max         999.990000\n",
       "Name: price, dtype: float64"
      ]
     },
     "execution_count": 25,
     "metadata": {},
     "output_type": "execute_result"
    }
   ],
   "source": [
    "udemy_cursos.price.describe().transpose()"
   ]
  },
  {
   "cell_type": "code",
   "execution_count": 26,
   "metadata": {},
   "outputs": [
    {
     "data": {
      "text/plain": [
       "19.99     20.8%\n",
       "0.00      10.4%\n",
       "199.99     8.3%\n",
       "99.99      4.8%\n",
       "24.99      4.7%\n",
       "          ...  \n",
       "72.00      0.0%\n",
       "53.98      0.0%\n",
       "45.00      0.0%\n",
       "68.98      0.0%\n",
       "369.90     0.0%\n",
       "Name: price, Length: 236, dtype: object"
      ]
     },
     "execution_count": 26,
     "metadata": {},
     "output_type": "execute_result"
    }
   ],
   "source": [
    "udemy_cursos.price.value_counts(normalize=True).mul(100).round(1).astype(str) + '%'"
   ]
  },
  {
   "cell_type": "code",
   "execution_count": 27,
   "metadata": {},
   "outputs": [
    {
     "data": {
      "image/png": "[encoded data removed]",
      "text/plain": [
       "<Figure size 600x300 with 1 Axes>"
      ]
     },
     "metadata": {},
     "output_type": "display_data"
    }
   ],
   "source": [
    "# Distribuição dos preços dos cursos em Português\n",
    "plt.figure(figsize = (6, 3))\n",
    "plt.hist(udemy_cursos[(udemy_cursos['is_paid']==True) & (udemy_cursos['language']=='Portuguese')]['price'],\n",
    "         bins=20,\n",
    "         rwidth=0.85,\n",
    "         color='#A435F0')\n",
    "plt.grid(axis='y', color ='Grey', linestyle ='-.', linewidth = 0.1)\n",
    "plt.xticks(range(0,551,50))\n",
    "plt.margins(0.01)\n",
    "plt.xlabel(\"Preço (R$)\", labelpad=10)\n",
    "plt.ylabel(\"\")\n",
    "plt.title('Distribuição dos preços (Portugues)',loc='center', fontdict={'fontsize': 12})\n",
    "\n",
    "SMALL_SIZE = 8\n",
    "MEDIUM_SIZE = 10\n",
    "BIGGER_SIZE = 12\n",
    "\n",
    "plt.rc('axes', labelsize=MEDIUM_SIZE)    # tamanho da fonte dos rótulos do eixo x e y\n",
    "plt.rc('xtick', labelsize=MEDIUM_SIZE)   # tamanho da fonte do eixo x\n",
    "plt.rc('ytick', labelsize=MEDIUM_SIZE)   # tamanho da fonte do eixo y\n",
    "plt.rc('legend', fontsize=SMALL_SIZE)    # tamanho da fonte da legenda\n",
    "plt.show()"
   ]
  },
  {
   "cell_type": "code",
   "execution_count": 28,
   "metadata": {},
   "outputs": [
    {
     "data": {
      "image/png": "[encoded data removed]",
      "text/plain": [
       "<Figure size 600x300 with 1 Axes>"
      ]
     },
     "metadata": {},
     "output_type": "display_data"
    }
   ],
   "source": [
    "# Distribuição dos preços dos cursos em Inglês\n",
    "plt.figure(figsize = (6, 3))\n",
    "plt.hist(udemy_cursos[(udemy_cursos['is_paid']==True) & (udemy_cursos['language']=='English')]['price'],\n",
    "         bins=20,\n",
    "         rwidth=0.85,\n",
    "         range=(0,201),\n",
    "         color='#A435F0')\n",
    "plt.grid(axis='y', color ='Grey', linestyle ='-.', linewidth = 0.1)\n",
    "#plt.xticks(range(0,301,0))\n",
    "\n",
    "plt.margins(0.01)\n",
    "plt.xlabel(\"Preço ($)\", labelpad=10)\n",
    "plt.ylabel(\"\")\n",
    "plt.title('Distribuição dos preços (Inglês)',loc='center', fontdict={'fontsize': 12})\n",
    "\n",
    "SMALL_SIZE = 8\n",
    "MEDIUM_SIZE = 10\n",
    "BIGGER_SIZE = 12\n",
    "\n",
    "plt.rc('axes', labelsize=MEDIUM_SIZE)    # tamanho da fonte dos rótulos do eixo x e y\n",
    "plt.rc('xtick', labelsize=MEDIUM_SIZE)   # tamanho da fonte do eixo x\n",
    "plt.rc('ytick', labelsize=MEDIUM_SIZE)   # tamanho da fonte do eixo y\n",
    "plt.rc('legend', fontsize=SMALL_SIZE)    # tamanho da fonte da legenda\n",
    "plt.show()"
   ]
  },
  {
   "attachments": {},
   "cell_type": "markdown",
   "metadata": {},
   "source": [
    "#### Conclusão\n",
    "\n",
    "Cerca de 90% (187,996) dos cursos são pagos e 10% (21,738) são gratuitos.  \n",
    "A maioria dos cursos possui o valor inferior a $200.  \n",
    "Os cursos pagos com maior quantidade de matrículas custam $19.99 e $199.99.  \n",
    "Os cursos que custam $19.99 equivalem a 20% do total de cursos  \n",
    "Os cursos que custam $199.99 equivalem apenas 8% do total de cursos."
   ]
  },
  {
   "attachments": {},
   "cell_type": "markdown",
   "metadata": {},
   "source": [
    "### Idioma"
   ]
  },
  {
   "cell_type": "code",
   "execution_count": 29,
   "metadata": {},
   "outputs": [
    {
     "name": "stdout",
     "output_type": "stream",
     "text": [
      "Top 10 cursos por idioma:\n",
      "╭────────────┬──────────────╮\n",
      "│ Idioma     │   Quantidade │\n",
      "├────────────┼──────────────┤\n",
      "│ English    │       123921 │\n",
      "│ Portuguese │        18471 │\n",
      "│ Spanish    │        17428 │\n",
      "│ Turkish    │         8100 │\n",
      "│ Japanese   │         7006 │\n",
      "│ German     │         6101 │\n",
      "│ French     │         5465 │\n",
      "│ Arabic     │         5197 │\n",
      "│ Italian    │         3637 │\n",
      "│ Russian    │         2686 │\n",
      "╰────────────┴──────────────╯\n"
     ]
    }
   ],
   "source": [
    "# Top 10 idiomas por curso\n",
    "udemy_c = (udemy_cursos.groupby(['language'], as_index=False)\n",
    "           .size()\n",
    "           .sort_values(by='size',ascending=False)\n",
    "           .rename(columns={'language':'Idioma', 'size':'Quantidade'}))\n",
    "print('Top 10 cursos por idioma:')\n",
    "print(udemy_c[:10].to_markdown(tablefmt=\"rounded_outline\", index=False))"
   ]
  },
  {
   "cell_type": "code",
   "execution_count": 40,
   "metadata": {},
   "outputs": [
    {
     "data": {
      "image/png": "[encoded data removed]",
      "text/plain": [
       "<Figure size 800x400 with 1 Axes>"
      ]
     },
     "metadata": {},
     "output_type": "display_data"
    },
    {
     "data": {
      "text/plain": [
       "<AxesSubplot: xlabel='Quantidade', ylabel='Idioma'>"
      ]
     },
     "execution_count": 40,
     "metadata": {},
     "output_type": "execute_result"
    },
    {
     "data": {
      "image/png": "[encoded data removed]",
      "text/plain": [
       "<Figure size 640x480 with 1 Axes>"
      ]
     },
     "metadata": {},
     "output_type": "display_data"
    }
   ],
   "source": [
    "# Top 10 idiomas por curso em gráfico\n",
    "fig, ax = plt.subplots(figsize=(8, 4)) \n",
    "sns.countplot(data=udemy_cursos, y='language', order=udemy_cursos['language'].value_counts().index[:10], color='#A435F0')\n",
    "ax.xaxis.set_major_formatter(ticker.FuncFormatter(lambda x, pos: '{:,.0f}'.format(x/1000) + 'K'))\n",
    "plt.xlabel(\"\")\n",
    "plt.ylabel(\"\")\n",
    "plt.title(\"Cursos por idioma\", fontdict={'fontsize': 12})\n",
    "\n",
    "SMALL_SIZE = 8\n",
    "MEDIUM_SIZE = 10\n",
    "BIGGER_SIZE = 12\n",
    "\n",
    "plt.rc('axes', labelsize=MEDIUM_SIZE)    # tamanho da fonte dos rótulos do eixo x e y\n",
    "plt.rc('xtick', labelsize=MEDIUM_SIZE)   # tamanho da fonte do eixo x\n",
    "plt.rc('ytick', labelsize=MEDIUM_SIZE)   # tamanho da fonte do eixo y\n",
    "plt.rc('legend', fontsize=SMALL_SIZE)    # tamanho da fonte da legenda\n",
    "\n",
    "# orcentagem\n",
    "total = len(udemy_cursos['language'])\n",
    "for p in ax.patches:\n",
    "        percentage = '{:.1f}%'.format(100 * p.get_width()/total)\n",
    "        x = p.get_x() + p.get_width()\n",
    "        y = p.get_y() + p.get_height() - 0.25\n",
    "        ax.annotate(percentage, (x, y))\n",
    "      \n",
    "plt.show()\n",
    "\n",
    "sns.barplot(data=udemy_c[:10], x='Quantidade', y='Idioma', orient='h', color='#A435F0')"
   ]
  },
  {
   "cell_type": "code",
   "execution_count": 44,
   "metadata": {},
   "outputs": [
    {
     "data": {
      "application/vnd.plotly.v1+json": {
       "config": {
        "plotlyServerURL": "https://plot.ly"
       },
       "data": [
        {
         "domain": {
          "x": [
           0,
           1
          ],
          "y": [
           0,
           1
          ]
         },
         "hole": 0.25,
         "hovertemplate": "index=%{label}<br>value=%{value}<extra></extra>",
         "labels": [
          "English",
          "Portuguese",
          "Spanish",
          "Turkish",
          "Japanese",
          "German",
          "French",
          "Arabic",
          "Italian",
          "Russian"
         ],
         "legendgroup": "",
         "name": "",
         "rotation": 150,
         "showlegend": true,
         "textposition": "inside",
         "texttemplate": "%{label}<br>%{value}%",
         "type": "pie",
         "values": [
          59.08,
          8.81,
          8.31,
          3.86,
          3.34,
          2.91,
          2.61,
          2.48,
          1.73,
          1.28
         ]
        }
       ],
       "layout": {
        "legend": {
         "tracegroupgap": 0
        },
        "margin": {
         "t": 60
        },
        "showlegend": false,
        "template": {
         "data": {
          "bar": [
           {
            "error_x": {
             "color": "#2a3f5f"
            },
            "error_y": {
             "color": "#2a3f5f"
            },
            "marker": {
             "line": {
              "color": "#E5ECF6",
              "width": 0.5
             },
             "pattern": {
              "fillmode": "overlay",
              "size": 10,
              "solidity": 0.2
             }
            },
            "type": "bar"
           }
          ],
          "barpolar": [
           {
            "marker": {
             "line": {
              "color": "#E5ECF6",
              "width": 0.5
             },
             "pattern": {
              "fillmode": "overlay",
              "size": 10,
              "solidity": 0.2
             }
            },
            "type": "barpolar"
           }
          ],
          "carpet": [
           {
            "aaxis": {
             "endlinecolor": "#2a3f5f",
             "gridcolor": "white",
             "linecolor": "white",
             "minorgridcolor": "white",
             "startlinecolor": "#2a3f5f"
            },
            "baxis": {
             "endlinecolor": "#2a3f5f",
             "gridcolor": "white",
             "linecolor": "white",
             "minorgridcolor": "white",
             "startlinecolor": "#2a3f5f"
            },
            "type": "carpet"
           }
          ],
          "choropleth": [
           {
            "colorbar": {
             "outlinewidth": 0,
             "ticks": ""
            },
            "type": "choropleth"
           }
          ],
          "contour": [
           {
            "colorbar": {
             "outlinewidth": 0,
             "ticks": ""
            },
            "colorscale": [
             [
              0,
              "#0d0887"
             ],
             [
              0.1111111111111111,
              "#46039f"
             ],
             [
              0.2222222222222222,
              "#7201a8"
             ],
             [
              0.3333333333333333,
              "#9c179e"
             ],
             [
              0.4444444444444444,
              "#bd3786"
             ],
             [
              0.5555555555555556,
              "#d8576b"
             ],
             [
              0.6666666666666666,
              "#ed7953"
             ],
             [
              0.7777777777777778,
              "#fb9f3a"
             ],
             [
              0.8888888888888888,
              "#fdca26"
             ],
             [
              1,
              "#f0f921"
             ]
            ],
            "type": "contour"
           }
          ],
          "contourcarpet": [
           {
            "colorbar": {
             "outlinewidth": 0,
             "ticks": ""
            },
            "type": "contourcarpet"
           }
          ],
          "heatmap": [
           {
            "colorbar": {
             "outlinewidth": 0,
             "ticks": ""
            },
            "colorscale": [
             [
              0,
              "#0d0887"
             ],
             [
              0.1111111111111111,
              "#46039f"
             ],
             [
              0.2222222222222222,
              "#7201a8"
             ],
             [
              0.3333333333333333,
              "#9c179e"
             ],
             [
              0.4444444444444444,
              "#bd3786"
             ],
             [
              0.5555555555555556,
              "#d8576b"
             ],
             [
              0.6666666666666666,
              "#ed7953"
             ],
             [
              0.7777777777777778,
              "#fb9f3a"
             ],
             [
              0.8888888888888888,
              "#fdca26"
             ],
             [
              1,
              "#f0f921"
             ]
            ],
            "type": "heatmap"
           }
          ],
          "heatmapgl": [
           {
            "colorbar": {
             "outlinewidth": 0,
             "ticks": ""
            },
            "colorscale": [
             [
              0,
              "#0d0887"
             ],
             [
              0.1111111111111111,
              "#46039f"
             ],
             [
              0.2222222222222222,
              "#7201a8"
             ],
             [
              0.3333333333333333,
              "#9c179e"
             ],
             [
              0.4444444444444444,
              "#bd3786"
             ],
             [
              0.5555555555555556,
              "#d8576b"
             ],
             [
              0.6666666666666666,
              "#ed7953"
             ],
             [
              0.7777777777777778,
              "#fb9f3a"
             ],
             [
              0.8888888888888888,
              "#fdca26"
             ],
             [
              1,
              "#f0f921"
             ]
            ],
            "type": "heatmapgl"
           }
          ],
          "histogram": [
           {
            "marker": {
             "pattern": {
              "fillmode": "overlay",
              "size": 10,
              "solidity": 0.2
             }
            },
            "type": "histogram"
           }
          ],
          "histogram2d": [
           {
            "colorbar": {
             "outlinewidth": 0,
             "ticks": ""
            },
            "colorscale": [
             [
              0,
              "#0d0887"
             ],
             [
              0.1111111111111111,
              "#46039f"
             ],
             [
              0.2222222222222222,
              "#7201a8"
             ],
             [
              0.3333333333333333,
              "#9c179e"
             ],
             [
              0.4444444444444444,
              "#bd3786"
             ],
             [
              0.5555555555555556,
              "#d8576b"
             ],
             [
              0.6666666666666666,
              "#ed7953"
             ],
             [
              0.7777777777777778,
              "#fb9f3a"
             ],
             [
              0.8888888888888888,
              "#fdca26"
             ],
             [
              1,
              "#f0f921"
             ]
            ],
            "type": "histogram2d"
           }
          ],
          "histogram2dcontour": [
           {
            "colorbar": {
             "outlinewidth": 0,
             "ticks": ""
            },
            "colorscale": [
             [
              0,
              "#0d0887"
             ],
             [
              0.1111111111111111,
              "#46039f"
             ],
             [
              0.2222222222222222,
              "#7201a8"
             ],
             [
              0.3333333333333333,
              "#9c179e"
             ],
             [
              0.4444444444444444,
              "#bd3786"
             ],
             [
              0.5555555555555556,
              "#d8576b"
             ],
             [
              0.6666666666666666,
              "#ed7953"
             ],
             [
              0.7777777777777778,
              "#fb9f3a"
             ],
             [
              0.8888888888888888,
              "#fdca26"
             ],
             [
              1,
              "#f0f921"
             ]
            ],
            "type": "histogram2dcontour"
           }
          ],
          "mesh3d": [
           {
            "colorbar": {
             "outlinewidth": 0,
             "ticks": ""
            },
            "type": "mesh3d"
           }
          ],
          "parcoords": [
           {
            "line": {
             "colorbar": {
              "outlinewidth": 0,
              "ticks": ""
             }
            },
            "type": "parcoords"
           }
          ],
          "pie": [
           {
            "automargin": true,
            "type": "pie"
           }
          ],
          "scatter": [
           {
            "fillpattern": {
             "fillmode": "overlay",
             "size": 10,
             "solidity": 0.2
            },
            "type": "scatter"
           }
          ],
          "scatter3d": [
           {
            "line": {
             "colorbar": {
              "outlinewidth": 0,
              "ticks": ""
             }
            },
            "marker": {
             "colorbar": {
              "outlinewidth": 0,
              "ticks": ""
             }
            },
            "type": "scatter3d"
           }
          ],
          "scattercarpet": [
           {
            "marker": {
             "colorbar": {
              "outlinewidth": 0,
              "ticks": ""
             }
            },
            "type": "scattercarpet"
           }
          ],
          "scattergeo": [
           {
            "marker": {
             "colorbar": {
              "outlinewidth": 0,
              "ticks": ""
             }
            },
            "type": "scattergeo"
           }
          ],
          "scattergl": [
           {
            "marker": {
             "colorbar": {
              "outlinewidth": 0,
              "ticks": ""
             }
            },
            "type": "scattergl"
           }
          ],
          "scattermapbox": [
           {
            "marker": {
             "colorbar": {
              "outlinewidth": 0,
              "ticks": ""
             }
            },
            "type": "scattermapbox"
           }
          ],
          "scatterpolar": [
           {
            "marker": {
             "colorbar": {
              "outlinewidth": 0,
              "ticks": ""
             }
            },
            "type": "scatterpolar"
           }
          ],
          "scatterpolargl": [
           {
            "marker": {
             "colorbar": {
              "outlinewidth": 0,
              "ticks": ""
             }
            },
            "type": "scatterpolargl"
           }
          ],
          "scatterternary": [
           {
            "marker": {
             "colorbar": {
              "outlinewidth": 0,
              "ticks": ""
             }
            },
            "type": "scatterternary"
           }
          ],
          "surface": [
           {
            "colorbar": {
             "outlinewidth": 0,
             "ticks": ""
            },
            "colorscale": [
             [
              0,
              "#0d0887"
             ],
             [
              0.1111111111111111,
              "#46039f"
             ],
             [
              0.2222222222222222,
              "#7201a8"
             ],
             [
              0.3333333333333333,
              "#9c179e"
             ],
             [
              0.4444444444444444,
              "#bd3786"
             ],
             [
              0.5555555555555556,
              "#d8576b"
             ],
             [
              0.6666666666666666,
              "#ed7953"
             ],
             [
              0.7777777777777778,
              "#fb9f3a"
             ],
             [
              0.8888888888888888,
              "#fdca26"
             ],
             [
              1,
              "#f0f921"
             ]
            ],
            "type": "surface"
           }
          ],
          "table": [
           {
            "cells": {
             "fill": {
              "color": "#EBF0F8"
             },
             "line": {
              "color": "white"
             }
            },
            "header": {
             "fill": {
              "color": "#C8D4E3"
             },
             "line": {
              "color": "white"
             }
            },
            "type": "table"
           }
          ]
         },
         "layout": {
          "annotationdefaults": {
           "arrowcolor": "#2a3f5f",
           "arrowhead": 0,
           "arrowwidth": 1
          },
          "autotypenumbers": "strict",
          "coloraxis": {
           "colorbar": {
            "outlinewidth": 0,
            "ticks": ""
           }
          },
          "colorscale": {
           "diverging": [
            [
             0,
             "#8e0152"
            ],
            [
             0.1,
             "#c51b7d"
            ],
            [
             0.2,
             "#de77ae"
            ],
            [
             0.3,
             "#f1b6da"
            ],
            [
             0.4,
             "#fde0ef"
            ],
            [
             0.5,
             "#f7f7f7"
            ],
            [
             0.6,
             "#e6f5d0"
            ],
            [
             0.7,
             "#b8e186"
            ],
            [
             0.8,
             "#7fbc41"
            ],
            [
             0.9,
             "#4d9221"
            ],
            [
             1,
             "#276419"
            ]
           ],
           "sequential": [
            [
             0,
             "#0d0887"
            ],
            [
             0.1111111111111111,
             "#46039f"
            ],
            [
             0.2222222222222222,
             "#7201a8"
            ],
            [
             0.3333333333333333,
             "#9c179e"
            ],
            [
             0.4444444444444444,
             "#bd3786"
            ],
            [
             0.5555555555555556,
             "#d8576b"
            ],
            [
             0.6666666666666666,
             "#ed7953"
            ],
            [
             0.7777777777777778,
             "#fb9f3a"
            ],
            [
             0.8888888888888888,
             "#fdca26"
            ],
            [
             1,
             "#f0f921"
            ]
           ],
           "sequentialminus": [
            [
             0,
             "#0d0887"
            ],
            [
             0.1111111111111111,
             "#46039f"
            ],
            [
             0.2222222222222222,
             "#7201a8"
            ],
            [
             0.3333333333333333,
             "#9c179e"
            ],
            [
             0.4444444444444444,
             "#bd3786"
            ],
            [
             0.5555555555555556,
             "#d8576b"
            ],
            [
             0.6666666666666666,
             "#ed7953"
            ],
            [
             0.7777777777777778,
             "#fb9f3a"
            ],
            [
             0.8888888888888888,
             "#fdca26"
            ],
            [
             1,
             "#f0f921"
            ]
           ]
          },
          "colorway": [
           "#636efa",
           "#EF553B",
           "#00cc96",
           "#ab63fa",
           "#FFA15A",
           "#19d3f3",
           "#FF6692",
           "#B6E880",
           "#FF97FF",
           "#FECB52"
          ],
          "font": {
           "color": "#2a3f5f"
          },
          "geo": {
           "bgcolor": "white",
           "lakecolor": "white",
           "landcolor": "#E5ECF6",
           "showlakes": true,
           "showland": true,
           "subunitcolor": "white"
          },
          "hoverlabel": {
           "align": "left"
          },
          "hovermode": "closest",
          "mapbox": {
           "style": "light"
          },
          "paper_bgcolor": "white",
          "plot_bgcolor": "#E5ECF6",
          "polar": {
           "angularaxis": {
            "gridcolor": "white",
            "linecolor": "white",
            "ticks": ""
           },
           "bgcolor": "#E5ECF6",
           "radialaxis": {
            "gridcolor": "white",
            "linecolor": "white",
            "ticks": ""
           }
          },
          "scene": {
           "xaxis": {
            "backgroundcolor": "#E5ECF6",
            "gridcolor": "white",
            "gridwidth": 2,
            "linecolor": "white",
            "showbackground": true,
            "ticks": "",
            "zerolinecolor": "white"
           },
           "yaxis": {
            "backgroundcolor": "#E5ECF6",
            "gridcolor": "white",
            "gridwidth": 2,
            "linecolor": "white",
            "showbackground": true,
            "ticks": "",
            "zerolinecolor": "white"
           },
           "zaxis": {
            "backgroundcolor": "#E5ECF6",
            "gridcolor": "white",
            "gridwidth": 2,
            "linecolor": "white",
            "showbackground": true,
            "ticks": "",
            "zerolinecolor": "white"
           }
          },
          "shapedefaults": {
           "line": {
            "color": "#2a3f5f"
           }
          },
          "ternary": {
           "aaxis": {
            "gridcolor": "white",
            "linecolor": "white",
            "ticks": ""
           },
           "baxis": {
            "gridcolor": "white",
            "linecolor": "white",
            "ticks": ""
           },
           "bgcolor": "#E5ECF6",
           "caxis": {
            "gridcolor": "white",
            "linecolor": "white",
            "ticks": ""
           }
          },
          "title": {
           "x": 0.05
          },
          "xaxis": {
           "automargin": true,
           "gridcolor": "white",
           "linecolor": "white",
           "ticks": "",
           "title": {
            "standoff": 15
           },
           "zerolinecolor": "white",
           "zerolinewidth": 2
          },
          "yaxis": {
           "automargin": true,
           "gridcolor": "white",
           "linecolor": "white",
           "ticks": "",
           "title": {
            "standoff": 15
           },
           "zerolinecolor": "white",
           "zerolinewidth": 2
          }
         }
        },
        "title": {
         "text": "Top 10 idiomas por curso",
         "x": 0.5
        }
       }
      }
     },
     "metadata": {},
     "output_type": "display_data"
    }
   ],
   "source": [
    "import plotly.express as px\n",
    "# Top 15 languages\n",
    "share_of_languages_top_10 = round(udemy_cursos['language'].value_counts() * 100 / len(udemy_cursos), 2)[:10]\n",
    "\n",
    "# Pie chart for top 15 languages visualization\n",
    "fig = px.pie(share_of_languages_top_10, values=share_of_languages_top_10.values, \n",
    "             names=share_of_languages_top_10.index, hole=0.25,\n",
    "            )\n",
    "fig.update_traces(textposition='inside', texttemplate = '%{label}<br>%{value}%', rotation=150)\n",
    "fig.update_layout(title_text='Top 10 idiomas por curso', title_x=0.5, showlegend=False)\n",
    "fig.show()"
   ]
  },
  {
   "cell_type": "code",
   "execution_count": 33,
   "metadata": {},
   "outputs": [
    {
     "data": {
      "text/plain": [
       "English                59.08\n",
       "Portuguese              8.81\n",
       "Spanish                 8.31\n",
       "Turkish                 3.86\n",
       "Japanese                3.34\n",
       "German                  2.91\n",
       "French                  2.61\n",
       "Arabic                  2.48\n",
       "Italian                 1.73\n",
       "Russian                 1.28\n",
       "Hindi                   0.84\n",
       "Korean                  0.79\n",
       "Indonesian              0.75\n",
       "Polish                  0.73\n",
       "Traditional Chinese     0.48\n",
       "Name: language, dtype: float64"
      ]
     },
     "execution_count": 33,
     "metadata": {},
     "output_type": "execute_result"
    }
   ],
   "source": [
    "share_of_languages_top_15"
   ]
  },
  {
   "attachments": {},
   "cell_type": "markdown",
   "metadata": {},
   "source": [
    "### Duração"
   ]
  },
  {
   "cell_type": "code",
   "execution_count": 23,
   "metadata": {},
   "outputs": [
    {
     "data": {
      "image/png": "[encoded data removed]",
      "text/plain": [
       "<Figure size 800x800 with 2 Axes>"
      ]
     },
     "metadata": {},
     "output_type": "display_data"
    }
   ],
   "source": [
    "# Distribuição da duração dos cursos\n",
    "fig, (ax1, ax2) = plt.subplots(2,1,figsize = (8, 8))\n",
    "N, bins, patches = ax1.hist(udemy_cursos['content_length_min'], rwidth=0.85, bins=45, color='#A435F0')\n",
    "\n",
    "ax1.grid(axis='y', color ='Grey', linestyle ='-.', linewidth = 0.1, which='both', alpha = 0.6)\n",
    "ax1.margins(0.01)\n",
    "\n",
    "patches[0].set_facecolor('#ed553b')\n",
    "patches[1].set_facecolor('#ed553b')\n",
    "\n",
    "plt.sca(ax1)\n",
    "plt.yscale('log')\n",
    "plt.ylabel(\"\")\n",
    "\n",
    "ax2.hist(udemy_cursos[udemy_cursos['content_length_min']<1000]['content_length_min'], rwidth=0.85, bins=100, color='#ed553b')\n",
    "ax2.grid(axis='y', color ='Grey', linestyle ='-.', linewidth = 0.1, alpha = 0.6)\n",
    "ax2.margins(0.01)\n",
    "\n",
    "plt.sca(ax2)\n",
    "plt.xlabel(\"Duração (min)\", labelpad=10)\n",
    "plt.ylabel(\"\")\n",
    "plt.xticks(range(0,1001,100))\n",
    "plt.subplots_adjust(hspace=0.1)\n",
    "plt.suptitle('Distribuição dos cursos por duração')\n",
    "\n",
    "SMALL_SIZE = 8\n",
    "MEDIUM_SIZE = 10\n",
    "BIGGER_SIZE = 12\n",
    "\n",
    "plt.rc('axes', labelsize=MEDIUM_SIZE)    # tamanho da fonte dos rótulos do eixo x e y\n",
    "plt.rc('xtick', labelsize=MEDIUM_SIZE)   # tamanho da fonte do eixo x\n",
    "plt.rc('ytick', labelsize=MEDIUM_SIZE)   # tamanho da fonte do eixo y\n",
    "plt.rc('legend', fontsize=SMALL_SIZE)    # tamanho da fonte da legenda\n",
    "plt.show()"
   ]
  },
  {
   "attachments": {},
   "cell_type": "markdown",
   "metadata": {},
   "source": [
    "### Categoria"
   ]
  },
  {
   "cell_type": "code",
   "execution_count": 24,
   "metadata": {},
   "outputs": [
    {
     "data": {
      "image/png": "[encoded data removed]",
      "text/plain": [
       "<Figure size 800x400 with 1 Axes>"
      ]
     },
     "metadata": {},
     "output_type": "display_data"
    }
   ],
   "source": [
    "# Categoria pela quantidade de cursos\n",
    "udemy_a = udemy_cursos.groupby(['category']).size().sort_values(ascending=True)\n",
    "fig, ax = plt.subplots(figsize=(8, 4)) \n",
    "ax.barh(udemy_a.index, udemy_a, color='#A435F0')\n",
    "ax.xaxis.set_major_formatter(ticker.FuncFormatter(lambda x, pos: '{:,.0f}'.format(x/1000) + 'K'))\n",
    "plt.margins(0.01)\n",
    "plt.grid(axis='x', color ='Grey',\n",
    "        linestyle ='-.', linewidth = 0.1)\n",
    "plt.suptitle('Cursos por categoria')\n",
    "\n",
    "SMALL_SIZE = 8\n",
    "MEDIUM_SIZE = 10\n",
    "BIGGER_SIZE = 12\n",
    "\n",
    "plt.rc('axes', labelsize=MEDIUM_SIZE)   # fontsize of the x and y labels\n",
    "plt.rc('xtick', labelsize=SMALL_SIZE)   # fontsize of the tick labels\n",
    "plt.rc('ytick', labelsize=SMALL_SIZE)   # fontsize of the tick labels\n",
    "plt.rc('legend', fontsize=SMALL_SIZE)   # legend fontsize\n",
    "plt.show()"
   ]
  },
  {
   "cell_type": "code",
   "execution_count": 25,
   "metadata": {},
   "outputs": [
    {
     "data": {
      "image/png": "[encoded data removed]",
      "text/plain": [
       "<Figure size 800x400 with 1 Axes>"
      ]
     },
     "metadata": {},
     "output_type": "display_data"
    }
   ],
   "source": [
    "# Categoria pela quantidade de matriculados\n",
    "udemy_b = udemy_cursos.groupby(['category']).sum(numeric_only=True).sort_values(by='num_subscribers',ascending=True)\n",
    "fig, ax = plt.subplots(figsize=(8, 4)) \n",
    "ax.barh(udemy_b.index, udemy_b['num_subscribers'], color='#A435F0')\n",
    "ax.xaxis.set_major_formatter(ticker.FuncFormatter(lambda x, pos: '{:,.0f}'.format(x/1000000) + 'M' if x!=0 else 0))\n",
    "plt.margins(0.01)\n",
    "plt.grid(axis='x', color ='Grey',\n",
    "        linestyle ='-.', linewidth = 0.1)\n",
    "plt.suptitle('Matrículas por categoria')\n",
    "\n",
    "SMALL_SIZE = 8\n",
    "MEDIUM_SIZE = 10\n",
    "BIGGER_SIZE = 12\n",
    "\n",
    "plt.rc('axes', labelsize=MEDIUM_SIZE)   # fontsize of the x and y labels\n",
    "plt.rc('xtick', labelsize=SMALL_SIZE)   # fontsize of the tick labels\n",
    "plt.rc('ytick', labelsize=SMALL_SIZE)   # fontsize of the tick labels\n",
    "plt.rc('legend', fontsize=SMALL_SIZE)   # legend fontsize\n",
    "plt.show()"
   ]
  },
  {
   "attachments": {},
   "cell_type": "markdown",
   "metadata": {},
   "source": [
    "### Matricula"
   ]
  },
  {
   "cell_type": "code",
   "execution_count": 26,
   "metadata": {},
   "outputs": [
    {
     "data": {
      "image/png": "[encoded data removed]",
      "text/plain": [
       "<Figure size 800x300 with 1 Axes>"
      ]
     },
     "metadata": {},
     "output_type": "display_data"
    }
   ],
   "source": [
    "# Distribuição dos matriculados por curso\n",
    "plt.figure(figsize = (8, 3))\n",
    "plt.hist(udemy_cursos[(udemy_cursos['num_subscribers']>0) & (udemy_cursos['num_subscribers']<1e6)]['num_subscribers'],\n",
    "         bins=89, \n",
    "         rwidth=0.85, \n",
    "         color='#A435F0')\n",
    "plt.grid(axis='y', color ='Grey', which='both', linestyle ='-.', linewidth = 0.1)\n",
    "plt.xticks(range(0,1000001,100000))\n",
    "plt.margins(0.01)\n",
    "plt.xlabel(\"Matrículas\", labelpad=10)\n",
    "plt.yscale('log')\n",
    "plt.title('Distribuição das matrículas',loc='center')\n",
    "\n",
    "SMALL_SIZE = 8\n",
    "MEDIUM_SIZE = 10\n",
    "BIGGER_SIZE = 12\n",
    "\n",
    "plt.rc('axes', labelsize=MEDIUM_SIZE)    # tamanho da fonte dos rótulos do eixo x e y\n",
    "plt.rc('xtick', labelsize=MEDIUM_SIZE)   # tamanho da fonte do eixo x\n",
    "plt.rc('ytick', labelsize=MEDIUM_SIZE)   # tamanho da fonte do eixo y\n",
    "plt.rc('legend', fontsize=SMALL_SIZE)    # tamanho da fonte da legenda\n",
    "plt.show()"
   ]
  },
  {
   "attachments": {},
   "cell_type": "markdown",
   "metadata": {},
   "source": [
    "### Data"
   ]
  },
  {
   "cell_type": "code",
   "execution_count": 27,
   "metadata": {},
   "outputs": [
    {
     "data": {
      "image/png": "[encoded data removed]",
      "text/plain": [
       "<Figure size 1000x600 with 1 Axes>"
      ]
     },
     "metadata": {},
     "output_type": "display_data"
    }
   ],
   "source": [
    "# Quantidade de cursos pela data\n",
    "udemy_cursos['published_QDate'] = pd.PeriodIndex(udemy_cursos.published_time, freq='Q')\n",
    "udemy_publish = udemy_cursos.groupby(['published_QDate'], as_index=False).size().sort_values(by='published_QDate')\n",
    "udemy_publish['published_QDate'] = udemy_publish['published_QDate'].apply(str)\n",
    "fig, ax = plt.subplots(figsize=(10, 6))\n",
    "plt.plot(udemy_publish.index[:-1], udemy_publish['size'][:-1], color='#A435F0', linewidth=1.75)\n",
    "plt.margins(x=0, y=0.012)\n",
    "#plt.ylabel(\"Quantidade de cursos\", labelpad=5, fontsize=12)\n",
    "#plt.xlabel(\"Data de publicação\", labelpad=10, fontsize=12)\n",
    "plt.xticks(udemy_publish.index[:-1])\n",
    "plt.xticks(rotation = 90)\n",
    "\n",
    "ax.set_xticklabels(list(udemy_publish['published_QDate'][:-1]))\n",
    "plt.grid(color ='Grey',\n",
    "        linestyle ='-.', linewidth = 0.1)\n",
    "\n",
    "# cria uma linha amarela entre os vértices 39 e 40 para destaque\n",
    "verts = [(udemy_publish.index[39], -1000), (udemy_publish.index[39], udemy_publish['size'][39]+10000), \n",
    "         (udemy_publish.index[40], udemy_publish['size'][40]+10000),(udemy_publish.index[40], -1000)]\n",
    "poly = Polygon(verts, facecolor ='yellow',\n",
    "               edgecolor ='1.0', alpha = 0.5)\n",
    "ax.add_patch(poly)\n",
    "\n",
    "plt.title('Quantidade de cursos x data de publicação',loc='center', fontdict={'fontsize': 12})\n",
    "plt.show()"
   ]
  },
  {
   "attachments": {},
   "cell_type": "markdown",
   "metadata": {},
   "source": [
    "### Top 10"
   ]
  },
  {
   "cell_type": "code",
   "execution_count": 28,
   "metadata": {},
   "outputs": [
    {
     "name": "stdout",
     "output_type": "stream",
     "text": [
      "Top 10 tópicos por quantidade de cursos:\n",
      "╭─────────────────────────┬──────────────╮\n",
      "│ Tópico                  │   Quantidade │\n",
      "├─────────────────────────┼──────────────┤\n",
      "│ Python                  │         2553 │\n",
      "│ Excel                   │         2072 │\n",
      "│ English Language        │         1495 │\n",
      "│ WordPress               │         1442 │\n",
      "│ Math                    │         1341 │\n",
      "│ Photoshop               │         1294 │\n",
      "│ Microsoft Certification │         1232 │\n",
      "│ Java                    │         1128 │\n",
      "│ JavaScript              │         1092 │\n",
      "│ Personal Development    │          978 │\n",
      "╰─────────────────────────┴──────────────╯\n"
     ]
    }
   ],
   "source": [
    "# Top 10  tópico por quantidade de cursos\n",
    "udemy_topic = (udemy_cursos.groupby(['topic'], as_index=False)\n",
    "           .size()\n",
    "           .sort_values(by='size',ascending=False)\n",
    "           .rename(columns={'topic':'Tópico', 'size':'Quantidade'}))\n",
    "print('Top 10 tópicos por quantidade de cursos:')\n",
    "print(udemy_topic[:10].to_markdown(tablefmt=\"rounded_outline\", index=False))"
   ]
  },
  {
   "cell_type": "code",
   "execution_count": 29,
   "metadata": {},
   "outputs": [
    {
     "name": "stdout",
     "output_type": "stream",
     "text": [
      "Top 10 tópicos por quantidade de matrículas:\n",
      "╭─────────────────────┬──────────────╮\n",
      "│ Tópico              │   Matrículas │\n",
      "├─────────────────────┼──────────────┤\n",
      "│ Python              │     32516280 │\n",
      "│ Excel               │     12822452 │\n",
      "│ JavaScript          │     11801744 │\n",
      "│ Java                │     11203723 │\n",
      "│ Web Development     │      9293697 │\n",
      "│ Photoshop           │      8976024 │\n",
      "│ Ethical Hacking     │      8280273 │\n",
      "│ WordPress           │      7080627 │\n",
      "│ CSS                 │      6482557 │\n",
      "│ Android Development │      5567763 │\n",
      "╰─────────────────────┴──────────────╯\n"
     ]
    }
   ],
   "source": [
    "# Top 10 tópico por matriculas\n",
    "udemy_subs = (udemy_cursos.groupby(['topic'], as_index=False)\n",
    "              .sum(numeric_only=True)\n",
    "              .sort_values(by='num_subscribers',ascending=False)\n",
    "              .rename(columns={'topic':'Tópico', 'num_subscribers': 'Matrículas'}))\n",
    "print('Top 10 tópicos por quantidade de matrículas:')\n",
    "print(udemy_subs[:10][['Tópico', 'Matrículas']].to_markdown(tablefmt=\"rounded_outline\", index=False,floatfmt=',.0f'))"
   ]
  },
  {
   "cell_type": "code",
   "execution_count": 30,
   "metadata": {},
   "outputs": [],
   "source": [
    "my_cols = ['title', 'instructor_name', 'price', 'num_reviews', 'num_subscribers', 'num_comments', 'content_length_min']\n",
    "\n",
    "def top5_courses(df, col):\n",
    "    top5_df = df.nlargest(5, col).reset_index(drop=True)\n",
    "    return top5_df[my_cols]"
   ]
  },
  {
   "cell_type": "code",
   "execution_count": 31,
   "metadata": {},
   "outputs": [
    {
     "data": {
      "text/html": [
       "<div>\n",
       "<style scoped>\n",
       "    .dataframe tbody tr th:only-of-type {\n",
       "        vertical-align: middle;\n",
       "    }\n",
       "\n",
       "    .dataframe tbody tr th {\n",
       "        vertical-align: top;\n",
       "    }\n",
       "\n",
       "    .dataframe thead th {\n",
       "        text-align: right;\n",
       "    }\n",
       "</style>\n",
       "<table border=\"1\" class=\"dataframe\">\n",
       "  <thead>\n",
       "    <tr style=\"text-align: right;\">\n",
       "      <th></th>\n",
       "      <th>title</th>\n",
       "      <th>instructor_name</th>\n",
       "      <th>price</th>\n",
       "      <th>num_reviews</th>\n",
       "      <th>num_subscribers</th>\n",
       "      <th>num_comments</th>\n",
       "      <th>content_length_min</th>\n",
       "    </tr>\n",
       "  </thead>\n",
       "  <tbody>\n",
       "    <tr>\n",
       "      <th>0</th>\n",
       "      <td>2022 Complete Python Bootcamp From Zero to Her...</td>\n",
       "      <td>Jose Portilla</td>\n",
       "      <td>199.99</td>\n",
       "      <td>436457</td>\n",
       "      <td>1612862</td>\n",
       "      <td>39040</td>\n",
       "      <td>1333</td>\n",
       "    </tr>\n",
       "    <tr>\n",
       "      <th>1</th>\n",
       "      <td>Microsoft Excel - Excel from Beginner to Advanced</td>\n",
       "      <td>Kyle Pew</td>\n",
       "      <td>149.99</td>\n",
       "      <td>332598</td>\n",
       "      <td>1108811</td>\n",
       "      <td>36101</td>\n",
       "      <td>1264</td>\n",
       "    </tr>\n",
       "    <tr>\n",
       "      <th>2</th>\n",
       "      <td>The Web Developer Bootcamp 2022</td>\n",
       "      <td>Colt Steele</td>\n",
       "      <td>199.99</td>\n",
       "      <td>246624</td>\n",
       "      <td>823805</td>\n",
       "      <td>31001</td>\n",
       "      <td>3827</td>\n",
       "    </tr>\n",
       "    <tr>\n",
       "      <th>3</th>\n",
       "      <td>The Complete 2022 Web Development Bootcamp</td>\n",
       "      <td>Dr. Angela Yu</td>\n",
       "      <td>199.99</td>\n",
       "      <td>228108</td>\n",
       "      <td>771176</td>\n",
       "      <td>27723</td>\n",
       "      <td>3939</td>\n",
       "    </tr>\n",
       "    <tr>\n",
       "      <th>4</th>\n",
       "      <td>Angular - The Complete Guide (2022 Edition)</td>\n",
       "      <td>Maximilian Schwarzmüller</td>\n",
       "      <td>189.99</td>\n",
       "      <td>172991</td>\n",
       "      <td>626304</td>\n",
       "      <td>24886</td>\n",
       "      <td>2082</td>\n",
       "    </tr>\n",
       "  </tbody>\n",
       "</table>\n",
       "</div>"
      ],
      "text/plain": [
       "                                               title  ... content_length_min\n",
       "0  2022 Complete Python Bootcamp From Zero to Her...  ...               1333\n",
       "1  Microsoft Excel - Excel from Beginner to Advanced  ...               1264\n",
       "2                    The Web Developer Bootcamp 2022  ...               3827\n",
       "3         The Complete 2022 Web Development Bootcamp  ...               3939\n",
       "4        Angular - The Complete Guide (2022 Edition)  ...               2082\n",
       "\n",
       "[5 rows x 7 columns]"
      ]
     },
     "execution_count": 31,
     "metadata": {},
     "output_type": "execute_result"
    }
   ],
   "source": [
    "top5_courses(udemy_cursos, 'num_reviews')"
   ]
  },
  {
   "cell_type": "code",
   "execution_count": 32,
   "metadata": {},
   "outputs": [
    {
     "name": "stdout",
     "output_type": "stream",
     "text": [
      "Top 10 tópicos por quantidade de matrículas:\n",
      "╭──────────────────────────────────────────────────────────────┬──────────────╮\n",
      "│ Título                                                       │   Avaliações │\n",
      "├──────────────────────────────────────────────────────────────┼──────────────┤\n",
      "│ 2022 Complete Python Bootcamp From Zero to Hero in Python    │       436607 │\n",
      "│ Microsoft Excel - Excel from Beginner to Advanced            │       332598 │\n",
      "│ The Web Developer Bootcamp 2022                              │       246624 │\n",
      "│ The Complete 2022 Web Development Bootcamp                   │       228108 │\n",
      "│ Angular - The Complete Guide (2022 Edition)                  │       172991 │\n",
      "│ Java Programming Masterclass covering Java 11 & Java 17      │       170478 │\n",
      "│ React - The Complete Guide (incl Hooks, React Router, Redux) │       163324 │\n",
      "│ Machine Learning A-Z™: Hands-On Python & R In Data Science   │       162432 │\n",
      "│ The Complete Digital Marketing Course - 12 Courses in 1      │       154985 │\n",
      "│ The Complete JavaScript Course 2022: From Zero to Expert!    │       153232 │\n",
      "╰──────────────────────────────────────────────────────────────┴──────────────╯\n"
     ]
    }
   ],
   "source": [
    "# Top 10 cursos por quantidade de avaliações\n",
    "udemy_review = (udemy_cursos.groupby(['title'], as_index=False)\n",
    "              .sum(numeric_only=True)\n",
    "              .sort_values(by='num_reviews',ascending=False)\n",
    "              .rename(columns={'title':'Título', 'num_reviews': 'Avaliações'}))\n",
    "print('Top 10 tópicos por quantidade de matrículas:')\n",
    "print(udemy_review[:10][['Título', 'Avaliações']].to_markdown(tablefmt=\"rounded_outline\", index=False,floatfmt=',.0f'))"
   ]
  },
  {
   "cell_type": "code",
   "execution_count": 33,
   "metadata": {},
   "outputs": [],
   "source": [
    "# Função para gerar os Top 10\n",
    "def top10_courses(df, col):\n",
    "    col_map = {\n",
    "        'num_reviews': 'Avaliações',\n",
    "        'num_subscribers': 'Matrículas',\n",
    "        'num_comments': 'Comentários'\n",
    "    }\n",
    "    col_newname = col_map.get(col)\n",
    "    if not col_newname:\n",
    "        return \"Coluna não existe.\"\n",
    "    \n",
    "    renamed_columns = {'title': 'Curso', 'instructor_name': 'Instrutor', 'avg_rating': 'Nota', col: col_newname}\n",
    "    top10_df = df.sort_values(col, ascending=False).reset_index(drop=True)[:10]\n",
    "    \n",
    "    print(f\"Top 10 cursos por quantidade de {col_newname}\")\n",
    "    print((top10_df[['title', 'instructor_name', 'avg_rating', col]]\n",
    "           .rename(columns=renamed_columns)\n",
    "           .to_markdown(tablefmt=\"rounded_outline\", index=False,floatfmt=',.0f')))\n"
   ]
  },
  {
   "cell_type": "code",
   "execution_count": 34,
   "metadata": {},
   "outputs": [
    {
     "name": "stdout",
     "output_type": "stream",
     "text": [
      "Top 10 cursos por quantidade de Avaliações\n",
      "╭──────────────────────────────────────────────────────────────┬───────────────────────────────────────┬────────┬──────────────╮\n",
      "│ Curso                                                        │ Instrutor                             │   Nota │   Avaliações │\n",
      "├──────────────────────────────────────────────────────────────┼───────────────────────────────────────┼────────┼──────────────┤\n",
      "│ 2022 Complete Python Bootcamp From Zero to Hero in Python    │ Jose Portilla                         │      5 │       436457 │\n",
      "│ Microsoft Excel - Excel from Beginner to Advanced            │ Kyle Pew                              │      5 │       332598 │\n",
      "│ The Web Developer Bootcamp 2022                              │ Colt Steele                           │      5 │       246624 │\n",
      "│ The Complete 2022 Web Development Bootcamp                   │ Dr. Angela Yu                         │      5 │       228108 │\n",
      "│ Angular - The Complete Guide (2022 Edition)                  │ Maximilian Schwarzmüller              │      5 │       172991 │\n",
      "│ Java Programming Masterclass covering Java 11 & Java 17      │ Tim Buchalka                          │      5 │       170478 │\n",
      "│ React - The Complete Guide (incl Hooks, React Router, Redux) │ Academind by Maximilian Schwarzmüller │      5 │       163324 │\n",
      "│ Machine Learning A-Z™: Hands-On Python & R In Data Science   │ Kirill Eremenko                       │      5 │       162432 │\n",
      "│ The Complete Digital Marketing Course - 12 Courses in 1      │ Rob Percival                          │      5 │       154985 │\n",
      "│ The Complete JavaScript Course 2022: From Zero to Expert!    │ Jonas Schmedtmann                     │      5 │       153232 │\n",
      "╰──────────────────────────────────────────────────────────────┴───────────────────────────────────────┴────────┴──────────────╯\n"
     ]
    }
   ],
   "source": [
    "top10_courses(udemy_cursos, 'num_reviews')"
   ]
  },
  {
   "cell_type": "code",
   "execution_count": 35,
   "metadata": {},
   "outputs": [
    {
     "name": "stdout",
     "output_type": "stream",
     "text": [
      "Top 10 cursos por quantidade de Matrículas\n",
      "╭────────────────────────────────────────────────────────────┬─────────────────┬────────┬──────────────╮\n",
      "│ Curso                                                      │ Instrutor       │   Nota │   Matrículas │\n",
      "├────────────────────────────────────────────────────────────┼─────────────────┼────────┼──────────────┤\n",
      "│ Java Tutorial for Complete Beginners                       │ John Purcell    │      4 │      1752364 │\n",
      "│ 2022 Complete Python Bootcamp From Zero to Hero in Python  │ Jose Portilla   │      5 │      1612862 │\n",
      "│ Microsoft Excel - Excel from Beginner to Advanced          │ Kyle Pew        │      5 │      1108811 │\n",
      "│ Automate the Boring Stuff with Python Programming          │ Al Sweigart     │      5 │      1056369 │\n",
      "│ Machine Learning A-Z™: Hands-On Python & R In Data Science │ Kirill Eremenko │      5 │       896340 │\n",
      "│ The Web Developer Bootcamp 2022                            │ Colt Steele     │      5 │       823805 │\n",
      "│ Introduction To Python Programming                         │ Avinash Jain    │      4 │       783638 │\n",
      "│ The Complete 2022 Web Development Bootcamp                 │ Dr. Angela Yu   │      5 │       771176 │\n",
      "│ Java Programming Masterclass covering Java 11 & Java 17    │ Tim Buchalka    │      5 │       720304 │\n",
      "│ The Complete Digital Marketing Course - 12 Courses in 1    │ Rob Percival    │      5 │       706339 │\n",
      "╰────────────────────────────────────────────────────────────┴─────────────────┴────────┴──────────────╯\n"
     ]
    }
   ],
   "source": [
    "top10_courses(udemy_cursos, 'num_subscribers')"
   ]
  },
  {
   "cell_type": "code",
   "execution_count": 36,
   "metadata": {},
   "outputs": [
    {
     "name": "stdout",
     "output_type": "stream",
     "text": [
      "Top 10 cursos por quantidade de Comentários\n",
      "╭────────────────────────────────────────────────────────────┬──────────────────────────┬────────┬───────────────╮\n",
      "│ Curso                                                      │ Instrutor                │   Nota │   Comentários │\n",
      "├────────────────────────────────────────────────────────────┼──────────────────────────┼────────┼───────────────┤\n",
      "│ 2022 Complete Python Bootcamp From Zero to Hero in Python  │ Jose Portilla            │      5 │         39040 │\n",
      "│ Microsoft Excel - Excel from Beginner to Advanced          │ Kyle Pew                 │      5 │         36101 │\n",
      "│ The Web Developer Bootcamp 2022                            │ Colt Steele              │      5 │         31001 │\n",
      "│ The Complete 2022 Web Development Bootcamp                 │ Dr. Angela Yu            │      5 │         27723 │\n",
      "│ The Complete Digital Marketing Course - 12 Courses in 1    │ Rob Percival             │      5 │         27540 │\n",
      "│ Angular - The Complete Guide (2022 Edition)                │ Maximilian Schwarzmüller │      5 │         24886 │\n",
      "│ The Complete JavaScript Course 2022: From Zero to Expert!  │ Jonas Schmedtmann        │      5 │         22645 │\n",
      "│ Machine Learning A-Z™: Hands-On Python & R In Data Science │ Kirill Eremenko          │      5 │         22567 │\n",
      "│ The Ultimate Drawing Course - Beginner to Advanced         │ Jaysen Batchelor         │      5 │         22341 │\n",
      "│ The Complete SQL Bootcamp 2022: Go from Zero to Hero       │ Jose Portilla            │      5 │         22141 │\n",
      "╰────────────────────────────────────────────────────────────┴──────────────────────────┴────────┴───────────────╯\n"
     ]
    }
   ],
   "source": [
    "top10_courses(udemy_cursos, 'num_comments')"
   ]
  },
  {
   "cell_type": "code",
   "execution_count": 37,
   "metadata": {},
   "outputs": [
    {
     "name": "stdout",
     "output_type": "stream",
     "text": [
      "Total de vendas da Udemy: 59.93 bilhões de dólares\n"
     ]
    }
   ],
   "source": [
    "# Vendas\n",
    "udemy_cursos['earned'] = udemy_cursos['price']*udemy_cursos['num_subscribers']\n",
    "print(\"Total de vendas da Udemy: \", end='')\n",
    "print(round(udemy_cursos.earned.sum()/1e9,2),'bilhões de dólares')"
   ]
  },
  {
   "cell_type": "code",
   "execution_count": 38,
   "metadata": {},
   "outputs": [
    {
     "name": "stdout",
     "output_type": "stream",
     "text": [
      "Top 10 professores com maior lucro ($):\n",
      "╭────────────────────────┬─────────────────────────────────────────────┬───────────────╮\n",
      "│ Professor              │ URL do professor                            │         Lucro │\n",
      "├────────────────────────┼─────────────────────────────────────────────┼───────────────┤\n",
      "│ Srinidhi Ranganathan   │ /user/srinidhi-ranganathan/                 │ 1,735,131,640 │\n",
      "│ Learn Tech Plus        │ /user/josh-werner/                          │ 1,198,360,878 │\n",
      "│ TJ Walker              │ /user/tjwalker2/                            │ 1,171,615,935 │\n",
      "│ Jose Portilla          │ /user/joseportilla/                         │   818,904,784 │\n",
      "│ YouAccel Training      │ /user/youaccel/                             │   801,222,163 │\n",
      "│ Creative Online School │ /user/mahbubur-rahman-9/                    │   638,075,198 │\n",
      "│ Robert (Bob) Steele    │ /user/c91d6786-95f3-48d8-ab94-cc92431d2aa4/ │   629,703,391 │\n",
      "│ Kirill Eremenko        │ /user/kirilleremenko/                       │   543,566,459 │\n",
      "│ Joseph Delgadillo      │ /user/josephdelgadillo2/                    │   543,485,234 │\n",
      "│ 365 Careers            │ /user/365careers/                           │   535,805,190 │\n",
      "╰────────────────────────┴─────────────────────────────────────────────┴───────────────╯\n"
     ]
    }
   ],
   "source": [
    "udemy_teacher = udemy_cursos.groupby(['instructor_url'], as_index=False).sum(numeric_only=True)\n",
    "udemy_teacher2 = (udemy_teacher.sort_values(by='earned',ascending=False)\n",
    "                  .join(udemy_cursos[['instructor_url', 'instructor_name']].set_index('instructor_url'), on='instructor_url').drop_duplicates()\n",
    "                  .rename(columns={'instructor_name':'Professor', 'instructor_url':'URL do professor', 'earned':'Lucro'}))\n",
    "print('Top 10 professores com maior lucro ($):')\n",
    "print(udemy_teacher2[0:10][['Professor', 'URL do professor', 'Lucro']].to_markdown(tablefmt=\"rounded_outline\", index=False,floatfmt=',.0f'))"
   ]
  },
  {
   "cell_type": "code",
   "execution_count": 39,
   "metadata": {},
   "outputs": [
    {
     "data": {
      "text/html": [
       "<div>\n",
       "<style scoped>\n",
       "    .dataframe tbody tr th:only-of-type {\n",
       "        vertical-align: middle;\n",
       "    }\n",
       "\n",
       "    .dataframe tbody tr th {\n",
       "        vertical-align: top;\n",
       "    }\n",
       "\n",
       "    .dataframe thead th {\n",
       "        text-align: right;\n",
       "    }\n",
       "</style>\n",
       "<table border=\"1\" class=\"dataframe\">\n",
       "  <thead>\n",
       "    <tr style=\"text-align: right;\">\n",
       "      <th></th>\n",
       "      <th>title</th>\n",
       "      <th>num_reviews</th>\n",
       "      <th>num_lectures</th>\n",
       "      <th>topic</th>\n",
       "    </tr>\n",
       "  </thead>\n",
       "  <tbody>\n",
       "    <tr>\n",
       "      <th>0</th>\n",
       "      <td>Online Vegan Vegetarian Cooking School</td>\n",
       "      <td>134</td>\n",
       "      <td>37</td>\n",
       "      <td>Vegan Cooking</td>\n",
       "    </tr>\n",
       "    <tr>\n",
       "      <th>1</th>\n",
       "      <td>The Lean Startup Talk at Stanford E-Corner</td>\n",
       "      <td>709</td>\n",
       "      <td>9</td>\n",
       "      <td>Lean Startup</td>\n",
       "    </tr>\n",
       "    <tr>\n",
       "      <th>2</th>\n",
       "      <td>How To Become a Vegan, Vegetarian, or Flexitarian</td>\n",
       "      <td>41</td>\n",
       "      <td>14</td>\n",
       "      <td>Vegan Cooking</td>\n",
       "    </tr>\n",
       "    <tr>\n",
       "      <th>3</th>\n",
       "      <td>How to Train a Puppy</td>\n",
       "      <td>395</td>\n",
       "      <td>36</td>\n",
       "      <td>Pet Training</td>\n",
       "    </tr>\n",
       "    <tr>\n",
       "      <th>4</th>\n",
       "      <td>Web Design from the Ground Up</td>\n",
       "      <td>38</td>\n",
       "      <td>38</td>\n",
       "      <td>Web Design</td>\n",
       "    </tr>\n",
       "    <tr>\n",
       "      <th>...</th>\n",
       "      <td>...</td>\n",
       "      <td>...</td>\n",
       "      <td>...</td>\n",
       "      <td>...</td>\n",
       "    </tr>\n",
       "    <tr>\n",
       "      <th>209729</th>\n",
       "      <td>Let's Speak Urdu - The Urdu Grammar</td>\n",
       "      <td>0</td>\n",
       "      <td>5</td>\n",
       "      <td>Urdu Language</td>\n",
       "    </tr>\n",
       "    <tr>\n",
       "      <th>209730</th>\n",
       "      <td>CompTIA Linux+ (XKO-004/005 # 2 Practice Exam ...</td>\n",
       "      <td>0</td>\n",
       "      <td>0</td>\n",
       "      <td>CompTIA Linux+</td>\n",
       "    </tr>\n",
       "    <tr>\n",
       "      <th>209731</th>\n",
       "      <td>CISSP 4 full exams #1 : All CISSP domains - 12...</td>\n",
       "      <td>0</td>\n",
       "      <td>0</td>\n",
       "      <td>CISSP - Certified Information Systems Security...</td>\n",
       "    </tr>\n",
       "    <tr>\n",
       "      <th>209732</th>\n",
       "      <td>JD Edwards EnterpriseOne Fixed Assets Accounti...</td>\n",
       "      <td>0</td>\n",
       "      <td>9</td>\n",
       "      <td>Financial Accounting</td>\n",
       "    </tr>\n",
       "    <tr>\n",
       "      <th>209733</th>\n",
       "      <td>CISSP 4 full exams #2 : All CISSP domains - 12...</td>\n",
       "      <td>0</td>\n",
       "      <td>0</td>\n",
       "      <td>CISSP - Certified Information Systems Security...</td>\n",
       "    </tr>\n",
       "  </tbody>\n",
       "</table>\n",
       "<p>209734 rows × 4 columns</p>\n",
       "</div>"
      ],
      "text/plain": [
       "                                                    title  ...                                              topic\n",
       "0                  Online Vegan Vegetarian Cooking School  ...                                      Vegan Cooking\n",
       "1              The Lean Startup Talk at Stanford E-Corner  ...                                       Lean Startup\n",
       "2       How To Become a Vegan, Vegetarian, or Flexitarian  ...                                      Vegan Cooking\n",
       "3                                    How to Train a Puppy  ...                                       Pet Training\n",
       "4                           Web Design from the Ground Up  ...                                         Web Design\n",
       "...                                                   ...  ...                                                ...\n",
       "209729                Let's Speak Urdu - The Urdu Grammar  ...                                      Urdu Language\n",
       "209730  CompTIA Linux+ (XKO-004/005 # 2 Practice Exam ...  ...                                     CompTIA Linux+\n",
       "209731  CISSP 4 full exams #1 : All CISSP domains - 12...  ...  CISSP - Certified Information Systems Security...\n",
       "209732  JD Edwards EnterpriseOne Fixed Assets Accounti...  ...                               Financial Accounting\n",
       "209733  CISSP 4 full exams #2 : All CISSP domains - 12...  ...  CISSP - Certified Information Systems Security...\n",
       "\n",
       "[209734 rows x 4 columns]"
      ]
     },
     "execution_count": 39,
     "metadata": {},
     "output_type": "execute_result"
    }
   ],
   "source": [
    "reviews = udemy_cursos[['title','num_reviews','num_lectures','topic']]\n",
    "\n",
    "reviews\n",
    "#df.groupby(['Courses','Fee']).count()"
   ]
  },
  {
   "cell_type": "code",
   "execution_count": 40,
   "metadata": {},
   "outputs": [
    {
     "data": {
      "text/plain": [
       "<AxesSubplot: xlabel='num_lectures', ylabel='num_reviews'>"
      ]
     },
     "execution_count": 40,
     "metadata": {},
     "output_type": "execute_result"
    },
    {
     "data": {
      "image/png": "[encoded data removed]",
      "text/plain": [
       "<Figure size 640x480 with 1 Axes>"
      ]
     },
     "metadata": {},
     "output_type": "display_data"
    }
   ],
   "source": [
    "sns.scatterplot(x = 'num_lectures', y = 'num_reviews', data = reviews)"
   ]
  },
  {
   "cell_type": "code",
   "execution_count": 41,
   "metadata": {},
   "outputs": [
    {
     "data": {
      "text/html": [
       "<div>\n",
       "<style scoped>\n",
       "    .dataframe tbody tr th:only-of-type {\n",
       "        vertical-align: middle;\n",
       "    }\n",
       "\n",
       "    .dataframe tbody tr th {\n",
       "        vertical-align: top;\n",
       "    }\n",
       "\n",
       "    .dataframe thead th {\n",
       "        text-align: right;\n",
       "    }\n",
       "</style>\n",
       "<table border=\"1\" class=\"dataframe\">\n",
       "  <thead>\n",
       "    <tr style=\"text-align: right;\">\n",
       "      <th></th>\n",
       "      <th>topic</th>\n",
       "      <th>num_reviews</th>\n",
       "      <th>num_subscribers</th>\n",
       "    </tr>\n",
       "  </thead>\n",
       "  <tbody>\n",
       "    <tr>\n",
       "      <th>2795</th>\n",
       "      <td>Python</td>\n",
       "      <td>2670370</td>\n",
       "      <td>32516280</td>\n",
       "    </tr>\n",
       "    <tr>\n",
       "      <th>1200</th>\n",
       "      <td>Excel</td>\n",
       "      <td>1409273</td>\n",
       "      <td>12822452</td>\n",
       "    </tr>\n",
       "    <tr>\n",
       "      <th>1794</th>\n",
       "      <td>JavaScript</td>\n",
       "      <td>904265</td>\n",
       "      <td>11801744</td>\n",
       "    </tr>\n",
       "    <tr>\n",
       "      <th>1779</th>\n",
       "      <td>Java</td>\n",
       "      <td>944527</td>\n",
       "      <td>11203723</td>\n",
       "    </tr>\n",
       "    <tr>\n",
       "      <th>3676</th>\n",
       "      <td>Web Development</td>\n",
       "      <td>1060685</td>\n",
       "      <td>9293697</td>\n",
       "    </tr>\n",
       "    <tr>\n",
       "      <th>2618</th>\n",
       "      <td>Photoshop</td>\n",
       "      <td>371352</td>\n",
       "      <td>8976024</td>\n",
       "    </tr>\n",
       "    <tr>\n",
       "      <th>1193</th>\n",
       "      <td>Ethical Hacking</td>\n",
       "      <td>385783</td>\n",
       "      <td>8280273</td>\n",
       "    </tr>\n",
       "    <tr>\n",
       "      <th>3735</th>\n",
       "      <td>WordPress</td>\n",
       "      <td>295251</td>\n",
       "      <td>7080627</td>\n",
       "    </tr>\n",
       "    <tr>\n",
       "      <th>569</th>\n",
       "      <td>CSS</td>\n",
       "      <td>432756</td>\n",
       "      <td>6482557</td>\n",
       "    </tr>\n",
       "    <tr>\n",
       "      <th>213</th>\n",
       "      <td>Android Development</td>\n",
       "      <td>344513</td>\n",
       "      <td>5567763</td>\n",
       "    </tr>\n",
       "  </tbody>\n",
       "</table>\n",
       "</div>"
      ],
      "text/plain": [
       "                    topic  num_reviews  num_subscribers\n",
       "2795               Python      2670370         32516280\n",
       "1200                Excel      1409273         12822452\n",
       "1794           JavaScript       904265         11801744\n",
       "1779                 Java       944527         11203723\n",
       "3676      Web Development      1060685          9293697\n",
       "2618            Photoshop       371352          8976024\n",
       "1193      Ethical Hacking       385783          8280273\n",
       "3735            WordPress       295251          7080627\n",
       "569                   CSS       432756          6482557\n",
       "213   Android Development       344513          5567763"
      ]
     },
     "execution_count": 41,
     "metadata": {},
     "output_type": "execute_result"
    }
   ],
   "source": [
    "curso = udemy_cursos.groupby(['topic','num_subscribers'])['num_reviews'].sum().sort_values(ascending=False)\n",
    "\n",
    "curso2 = udemy_cursos.groupby(['topic']).agg({'num_reviews':'sum','num_subscribers':'sum'}).reset_index().sort_values(by=['num_subscribers'],ascending=False).head(10)\n",
    "curso2\n",
    "#df.groupby(['Courses','Fee']).count()"
   ]
  },
  {
   "cell_type": "code",
   "execution_count": 42,
   "metadata": {},
   "outputs": [
    {
     "data": {
      "text/plain": [
       "<AxesSubplot: xlabel='num_reviews', ylabel='num_subscribers'>"
      ]
     },
     "execution_count": 42,
     "metadata": {},
     "output_type": "execute_result"
    },
    {
     "data": {
      "image/png": "[encoded data removed]",
      "text/plain": [
       "<Figure size 640x480 with 1 Axes>"
      ]
     },
     "metadata": {},
     "output_type": "display_data"
    }
   ],
   "source": [
    "sns.scatterplot(x = 'num_reviews', y = 'num_subscribers', data = curso2, hue='topic')\n",
    "# Muitos que compram um curso de Python tende a terminá-lo/avaliá-lo\n",
    "# Os cursos de Web Development e Photoshop possuem quantidades semelhantes de cursos comprados,\n",
    "# O curso de Photoshop possui bem menos avaliações se comparado ao de Web Development\n",
    "# Muitos alunos de Photoshop tendem a comprar mas não terminar/avaliar o curso."
   ]
  },
  {
   "cell_type": "code",
   "execution_count": 43,
   "metadata": {},
   "outputs": [
    {
     "ename": "NameError",
     "evalue": "name 'coursera_category' is not defined",
     "output_type": "error",
     "traceback": [
      "\u001b[1;31m---------------------------------------------------------------------------\u001b[0m",
      "\u001b[1;31mNameError\u001b[0m                                 Traceback (most recent call last)",
      "Cell \u001b[1;32mIn[43], line 1\u001b[0m\n\u001b[1;32m----> 1\u001b[0m sns\u001b[39m.\u001b[39mbarplot(x \u001b[39m=\u001b[39m \u001b[39m'\u001b[39m\u001b[39mcounts\u001b[39m\u001b[39m'\u001b[39m, y \u001b[39m=\u001b[39m \u001b[39m'\u001b[39m\u001b[39mcategory-subject-area\u001b[39m\u001b[39m'\u001b[39m, data \u001b[39m=\u001b[39m coursera_category, color\u001b[39m=\u001b[39m\u001b[39m'\u001b[39m\u001b[39m#A435F0\u001b[39m\u001b[39m'\u001b[39m, edgecolor\u001b[39m=\u001b[39m\u001b[39m'\u001b[39m\u001b[39mwhite\u001b[39m\u001b[39m'\u001b[39m, linewidth\u001b[39m=\u001b[39m\u001b[39m1.5\u001b[39m)\n\u001b[0;32m      2\u001b[0m plt\u001b[39m.\u001b[39mxlabel(\u001b[39m\"\u001b[39m\u001b[39m\"\u001b[39m)\n\u001b[0;32m      3\u001b[0m plt\u001b[39m.\u001b[39mylabel(\u001b[39m\"\u001b[39m\u001b[39m\"\u001b[39m)\n",
      "\u001b[1;31mNameError\u001b[0m: name 'coursera_category' is not defined"
     ]
    }
   ],
   "source": [
    "sns.barplot(x = 'counts', y = 'category-subject-area', data = coursera_category, color='#A435F0', edgecolor='white', linewidth=1.5)\n",
    "plt.xlabel(\"\")\n",
    "plt.ylabel(\"\")\n",
    "plt.title(\"Assunto por Quantidade\")"
   ]
  },
  {
   "attachments": {},
   "cell_type": "markdown",
   "metadata": {},
   "source": [
    "# 4\\. Conclusões"
   ]
  },
  {
   "attachments": {},
   "cell_type": "markdown",
   "metadata": {},
   "source": [
    "90"
   ]
  },
  {
   "attachments": {},
   "cell_type": "markdown",
   "metadata": {},
   "source": [
    "# Exportando os dados"
   ]
  },
  {
   "cell_type": "code",
   "execution_count": null,
   "metadata": {},
   "outputs": [],
   "source": [
    "# Exporta o dataset final\n",
    "udemy_cursos.to_csv('data/udemy_cursos_final.csv', sep =';', index=False)"
   ]
  }
 ],
 "metadata": {
  "kernelspec": {
   "display_name": "datascience",
   "language": "python",
   "name": "python3"
  },
  "language_info": {
   "codemirror_mode": {
    "name": "ipython",
    "version": 3
   },
   "file_extension": ".py",
   "mimetype": "text/x-python",
   "name": "python",
   "nbconvert_exporter": "python",
   "pygments_lexer": "ipython3",
   "version": "3.11.0"
  },
  "orig_nbformat": 4,
  "vscode": {
   "interpreter": {
    "hash": "7f3c42746d99043f071b835a59ef4aba7cc2276c6a6dea3da8db9b817525a73f"
   }
  }
 },
 "nbformat": 4,
 "nbformat_minor": 2
}
